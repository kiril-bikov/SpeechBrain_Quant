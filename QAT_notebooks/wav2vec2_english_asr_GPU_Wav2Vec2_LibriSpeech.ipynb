{
 "cells": [
  {
   "cell_type": "markdown",
   "id": "590528f4",
   "metadata": {},
   "source": [
    "# Training-Aware Quantization of SpeechBrain Wav2Vec2 on GPU\n"
   ]
  },
  {
   "cell_type": "markdown",
   "id": "91676ae2",
   "metadata": {},
   "source": [
    "This notebook provides code for training-aware quantization of the speechbrain/asr-wav2vec2-librispeech model. We compare fine-tuned base model and quantization-aware trained model on the librispeech dataset. Training is performed for two epochs."
   ]
  },
  {
   "cell_type": "markdown",
   "id": "95ba4a75",
   "metadata": {},
   "source": [
    "First, we define the ASR class and write helper functions"
   ]
  },
  {
   "cell_type": "code",
   "execution_count": 1,
   "id": "59b081d7",
   "metadata": {},
   "outputs": [],
   "source": [
    "import os\n",
    "import sys\n",
    "import torch\n",
    "import logging\n",
    "import speechbrain as sb\n",
    "from speechbrain.utils.distributed import run_on_main, if_main_process\n",
    "from hyperpyyaml import load_hyperpyyaml\n",
    "from pathlib import Path\n",
    "\n",
    "logger = logging.getLogger(__name__)\n",
    "\n",
    "\n",
    "class ASR(sb.Brain):\n",
    "    def compute_forward(self, batch, stage):\n",
    "        \"\"\"Forward computations from the waveform batches to the output probabilities.\"\"\"\n",
    "        batch = batch.to(self.device)\n",
    "        wavs, wav_lens = batch.sig\n",
    "        wavs, wav_lens = wavs.to(self.device), wav_lens.to(self.device)\n",
    "        if hasattr(self.modules, \"downsampler\"):\n",
    "            wavs = self.modules.downsampler(wavs)\n",
    "        if stage == sb.Stage.TRAIN:\n",
    "            if hasattr(self.modules, \"env_corrupt\"):\n",
    "                wavs_noise = self.modules.env_corrupt(wavs, wav_lens)\n",
    "                wavs = torch.cat([wavs, wavs_noise], dim=0)\n",
    "                wav_lens = torch.cat([wav_lens, wav_lens])\n",
    "\n",
    "            if hasattr(self.hparams, \"augmentation\"):\n",
    "                wavs = self.hparams.augmentation(wavs, wav_lens)\n",
    "\n",
    "        if hasattr(self.modules, \"extractor\"):\n",
    "            latents = self.modules.extractor(wavs)\n",
    "            feats = self.modules.encoder_wrapper(latents, wav_lens=wav_lens)[\n",
    "                \"embeddings\"\n",
    "            ]\n",
    "        else:\n",
    "            feats = self.modules.wav2vec2(wavs, wav_lens)\n",
    "\n",
    "        x = self.modules.enc(feats)\n",
    "\n",
    "        p_tokens = None\n",
    "        logits = self.modules.ctc_lin(x)\n",
    "\n",
    "        if hasattr(self.hparams, \"upsampling\") and self.hparams.upsampling:\n",
    "            logits = logits.view(\n",
    "                logits.shape[0], -1, self.hparams.output_neurons\n",
    "            )\n",
    "\n",
    "        p_ctc = self.hparams.log_softmax(logits)\n",
    "        if stage == sb.Stage.VALID or (\n",
    "            stage == sb.Stage.TEST and not self.hparams.use_language_modelling\n",
    "        ):\n",
    "\n",
    "            p_tokens = sb.decoders.ctc_greedy_decode(\n",
    "                p_ctc, wav_lens, blank_id=self.hparams.blank_index\n",
    "            )\n",
    "        return p_ctc, wav_lens, p_tokens\n",
    "\n",
    "    def compute_objectives(self, predictions, batch, stage):\n",
    "        \"\"\"Computes the loss (CTC+NLL) given predictions and targets.\"\"\"\n",
    "\n",
    "        p_ctc, wav_lens, predicted_tokens = predictions\n",
    "\n",
    "        ids = batch.id\n",
    "        tokens, tokens_lens = batch.tokens\n",
    "\n",
    "        if hasattr(self.modules, \"env_corrupt\") and stage == sb.Stage.TRAIN:\n",
    "            tokens = torch.cat([tokens, tokens], dim=0)\n",
    "            tokens_lens = torch.cat([tokens_lens, tokens_lens], dim=0)\n",
    "\n",
    "        loss_ctc = self.hparams.ctc_cost(p_ctc, tokens, wav_lens, tokens_lens)\n",
    "        loss = loss_ctc\n",
    "\n",
    "        if stage == sb.Stage.VALID:\n",
    "            predicted_words = [\n",
    "                \"\".join(self.tokenizer.decode_ndim(utt_seq)).split(\" \")\n",
    "                for utt_seq in predicted_tokens\n",
    "            ]\n",
    "            target_words = [wrd.split(\" \") for wrd in batch.wrd]\n",
    "            self.wer_metric.append(ids, predicted_words, target_words)\n",
    "            self.cer_metric.append(ids, predicted_words, target_words)\n",
    "        if stage == sb.Stage.TEST:\n",
    "            if self.hparams.use_language_modelling:\n",
    "                predicted_words = []\n",
    "                for logs in p_ctc:\n",
    "                    text = decoder.decode(logs.detach().cpu().numpy())\n",
    "                    predicted_words.append(text.split(\" \"))\n",
    "            else:\n",
    "                predicted_words = [\n",
    "                    \"\".join(self.tokenizer.decode_ndim(utt_seq)).split(\" \")\n",
    "                    for utt_seq in predicted_tokens\n",
    "                ]\n",
    "            target_words = [wrd.split(\" \") for wrd in batch.wrd]\n",
    "            self.wer_metric.append(ids, predicted_words, target_words)\n",
    "            self.cer_metric.append(ids, predicted_words, target_words)\n",
    "        return loss\n",
    "\n",
    "    def fit_batch(self, batch):\n",
    "        should_step = self.step % self.grad_accumulation_factor == 0\n",
    "\n",
    "        if self.auto_mix_prec:\n",
    "            self.wav2vec_optimizer.zero_grad()\n",
    "            self.model_optimizer.zero_grad()\n",
    "            with torch.cuda.amp.autocast():\n",
    "                with self.no_sync():\n",
    "                    outputs = self.compute_forward(batch, sb.Stage.TRAIN)\n",
    "                loss = self.compute_objectives(outputs, batch, sb.Stage.TRAIN)\n",
    "            with self.no_sync(not should_step):\n",
    "                self.scaler.scale(\n",
    "                    loss / self.grad_accumulation_factor\n",
    "                ).backward()\n",
    "            if should_step:\n",
    "                if not self.hparams.freeze_wav2vec:\n",
    "                    self.scaler.unscale_(self.wav2vec_optimizer)\n",
    "                self.scaler.unscale_(self.model_optimizer)\n",
    "                if self.check_gradients(loss):\n",
    "                    self.scaler.step(self.wav2vec_optimizer)\n",
    "                    self.scaler.step(self.model_optimizer)\n",
    "                self.scaler.update()\n",
    "                self.optimizer_step += 1\n",
    "        else:\n",
    "            with self.no_sync():\n",
    "                outputs = self.compute_forward(batch, sb.Stage.TRAIN)\n",
    "            loss = self.compute_objectives(outputs, batch, sb.Stage.TRAIN)\n",
    "            (loss / self.grad_accumulation_factor).backward()\n",
    "            if should_step:\n",
    "                if self.check_gradients(loss):\n",
    "                    self.wav2vec_optimizer.step()\n",
    "                    self.model_optimizer.step()\n",
    "                self.wav2vec_optimizer.zero_grad()\n",
    "                self.model_optimizer.zero_grad()\n",
    "                self.optimizer_step += 1\n",
    "\n",
    "        return loss.detach().cpu()\n",
    "\n",
    "    def on_stage_start(self, stage, epoch):\n",
    "        \"\"\"Gets called at the beginning of each epoch\"\"\"\n",
    "        if stage != sb.Stage.TRAIN:\n",
    "            self.cer_metric = self.hparams.cer_computer()\n",
    "            self.wer_metric = self.hparams.error_rate_computer()\n",
    "\n",
    "    def on_stage_end(self, stage, stage_loss, epoch):\n",
    "        \"\"\"Gets called at the end of an epoch.\"\"\"\n",
    "        stage_stats = {\"loss\": stage_loss}\n",
    "        if stage == sb.Stage.TRAIN:\n",
    "            self.train_stats = stage_stats\n",
    "        else:\n",
    "            stage_stats[\"CER\"] = self.cer_metric.summarize(\"error_rate\")\n",
    "            stage_stats[\"WER\"] = self.wer_metric.summarize(\"error_rate\")\n",
    "\n",
    "        if stage == sb.Stage.VALID:\n",
    "            old_lr_model, new_lr_model = self.hparams.lr_annealing_model(\n",
    "                stage_stats[\"loss\"]\n",
    "            )\n",
    "            old_lr_wav2vec, new_lr_wav2vec = self.hparams.lr_annealing_wav2vec(\n",
    "                stage_stats[\"loss\"]\n",
    "            )\n",
    "            sb.nnet.schedulers.update_learning_rate(\n",
    "                self.model_optimizer, new_lr_model\n",
    "            )\n",
    "            sb.nnet.schedulers.update_learning_rate(\n",
    "                self.wav2vec_optimizer, new_lr_wav2vec\n",
    "            )\n",
    "            self.hparams.train_logger.log_stats(\n",
    "                stats_meta={\n",
    "                    \"epoch\": epoch,\n",
    "                    \"lr_model\": old_lr_model,\n",
    "                    \"lr_wav2vec\": old_lr_wav2vec,\n",
    "                },\n",
    "                train_stats=self.train_stats,\n",
    "                valid_stats=stage_stats,\n",
    "            )\n",
    "            self.checkpointer.save_and_keep_only(\n",
    "                meta={\"WER\": stage_stats[\"WER\"]}, min_keys=[\"WER\"],\n",
    "            )\n",
    "        elif stage == sb.Stage.TEST:\n",
    "            self.hparams.train_logger.log_stats(\n",
    "                stats_meta={\"Epoch loaded\": self.hparams.epoch_counter.current},\n",
    "                test_stats=stage_stats,\n",
    "            )\n",
    "            if if_main_process():\n",
    "                with open(self.hparams.test_wer_file, \"w\") as w:\n",
    "                    self.wer_metric.write_stats(w)\n",
    "\n",
    "    def init_optimizers(self):\n",
    "        \"Initializes the wav2vec2 optimizer and model optimizer\"\n",
    "        if hasattr(self.modules, \"extractor\"):\n",
    "            self.wav2vec_optimizer = self.hparams.wav2vec_opt_class(\n",
    "                self.modules.encoder_wrapper.parameters()\n",
    "            )\n",
    "\n",
    "        else:\n",
    "            self.wav2vec_optimizer = self.hparams.wav2vec_opt_class(\n",
    "                self.modules.wav2vec2.parameters()\n",
    "            )\n",
    "\n",
    "        self.model_optimizer = self.hparams.model_opt_class(\n",
    "            self.hparams.model.parameters()\n",
    "        )\n",
    "\n",
    "        if self.checkpointer is not None:\n",
    "            self.checkpointer.add_recoverable(\n",
    "                \"wav2vec_opt\", self.wav2vec_optimizer\n",
    "            )\n",
    "            self.checkpointer.add_recoverable(\"modelopt\", self.model_optimizer)\n",
    "\n",
    "    def zero_grad(self, set_to_none=False):\n",
    "        self.wav2vec_optimizer.zero_grad(set_to_none)\n",
    "        self.model_optimizer.zero_grad(set_to_none)\n",
    "\n",
    "\n",
    "def dataio_prepare(hparams):\n",
    "    \"\"\"This function prepares the datasets to be used in the brain class.\n",
    "    It also defines the data processing pipeline through user-defined functions.\"\"\"\n",
    "    data_folder = hparams[\"data_folder\"]\n",
    "\n",
    "    train_data = sb.dataio.dataset.DynamicItemDataset.from_csv(\n",
    "        csv_path=hparams[\"train_csv\"], replacements={\"data_root\": data_folder},\n",
    "    )\n",
    "\n",
    "    if hparams[\"sorting\"] == \"ascending\":\n",
    "        train_data = train_data.filtered_sorted(sort_key=\"duration\")\n",
    "        hparams[\"train_dataloader_opts\"][\"shuffle\"] = False\n",
    "\n",
    "    elif hparams[\"sorting\"] == \"descending\":\n",
    "        train_data = train_data.filtered_sorted(\n",
    "            sort_key=\"duration\", reverse=True\n",
    "        )\n",
    "\n",
    "        hparams[\"train_dataloader_opts\"][\"shuffle\"] = False\n",
    "\n",
    "    elif hparams[\"sorting\"] == \"random\":\n",
    "        pass\n",
    "\n",
    "    else:\n",
    "        raise NotImplementedError(\n",
    "            \"sorting must be random, ascending or descending\"\n",
    "        )\n",
    "\n",
    "    valid_data = sb.dataio.dataset.DynamicItemDataset.from_csv(\n",
    "        csv_path=hparams[\"valid_csv\"], replacements={\"data_root\": data_folder},\n",
    "    )\n",
    "    valid_data = valid_data.filtered_sorted(sort_key=\"duration\")\n",
    "\n",
    "    test_datasets = {}\n",
    "    for csv_file in hparams[\"test_csv\"]:\n",
    "        name = Path(csv_file).stem\n",
    "        test_datasets[name] = sb.dataio.dataset.DynamicItemDataset.from_csv(\n",
    "            csv_path=csv_file, replacements={\"data_root\": data_folder}\n",
    "        )\n",
    "        test_datasets[name] = test_datasets[name].filtered_sorted(\n",
    "            sort_key=\"duration\"\n",
    "        )\n",
    "\n",
    "    datasets = [train_data, valid_data] + [i for k, i in test_datasets.items()]\n",
    "\n",
    "    @sb.utils.data_pipeline.takes(\"wav\")\n",
    "    @sb.utils.data_pipeline.provides(\"sig\")\n",
    "    def audio_pipeline(wav):\n",
    "        sig = sb.dataio.dataio.read_audio(wav)\n",
    "        return sig\n",
    "\n",
    "    sb.dataio.dataset.add_dynamic_item(datasets, audio_pipeline)\n",
    "    label_encoder = sb.dataio.encoder.CTCTextEncoder()\n",
    "\n",
    "    @sb.utils.data_pipeline.takes(\"wrd\")\n",
    "    @sb.utils.data_pipeline.provides(\n",
    "        \"wrd\", \"char_list\", \"tokens_list\", \"tokens\"\n",
    "    )\n",
    "    def text_pipeline(wrd):\n",
    "        yield wrd\n",
    "        char_list = list(wrd)\n",
    "        yield char_list\n",
    "        tokens_list = label_encoder.encode_sequence(char_list)\n",
    "        yield tokens_list\n",
    "        tokens = torch.LongTensor(tokens_list)\n",
    "        yield tokens\n",
    "\n",
    "    sb.dataio.dataset.add_dynamic_item(datasets, text_pipeline)\n",
    "\n",
    "    lab_enc_file = os.path.join(hparams[\"save_folder\"], \"label_encoder.txt\")\n",
    "    special_labels = {\n",
    "        \"blank_label\": hparams[\"blank_index\"],\n",
    "    }\n",
    "    label_encoder.load_or_create(\n",
    "        path=lab_enc_file,\n",
    "        from_didatasets=[train_data],\n",
    "        output_key=\"char_list\",\n",
    "        special_labels=special_labels,\n",
    "        sequence_input=True,\n",
    "    )\n",
    "\n",
    "    sb.dataio.dataset.set_output_keys(\n",
    "        datasets, [\"id\", \"sig\", \"wrd\", \"char_list\", \"tokens\"],\n",
    "    )\n",
    "\n",
    "    return train_data, valid_data, test_datasets, label_encoder\n",
    "\n"
   ]
  },
  {
   "cell_type": "markdown",
   "id": "44db9015",
   "metadata": {},
   "source": [
    "## Prepare Data"
   ]
  },
  {
   "cell_type": "code",
   "execution_count": 2,
   "id": "ed7b444b",
   "metadata": {},
   "outputs": [
    {
     "data": {
      "application/vnd.jupyter.widget-view+json": {
       "model_id": "3ad74a8ec35642c5b5609359cc7ee2d6",
       "version_major": 2,
       "version_minor": 0
      },
      "text/plain": [
       "Resolving data files:   0%|          | 0/585 [00:00<?, ?it/s]"
      ]
     },
     "metadata": {},
     "output_type": "display_data"
    },
    {
     "data": {
      "application/vnd.jupyter.widget-view+json": {
       "model_id": "ab491874fd98496482beb22fd890c576",
       "version_major": 2,
       "version_minor": 0
      },
      "text/plain": [
       "Resolving data files:   0%|          | 0/87 [00:00<?, ?it/s]"
      ]
     },
     "metadata": {},
     "output_type": "display_data"
    },
    {
     "data": {
      "application/vnd.jupyter.widget-view+json": {
       "model_id": "6ea1ff5a52ac42669d7a511a31d9e51b",
       "version_major": 2,
       "version_minor": 0
      },
      "text/plain": [
       "Resolving data files:   0%|          | 0/97 [00:00<?, ?it/s]"
      ]
     },
     "metadata": {},
     "output_type": "display_data"
    },
    {
     "name": "stderr",
     "output_type": "stream",
     "text": [
      "Using custom data configuration LibriSpeech-49d9aec4ade7f44e\n",
      "Reusing dataset text (/home/kmb85/.cache/huggingface/datasets/text/LibriSpeech-49d9aec4ade7f44e/0.0.0/08f6fb1dd2dab0a18ea441c359e1d63794ea8cb53e7863e6edf8fc5655e47ec4)\n"
     ]
    },
    {
     "data": {
      "application/vnd.jupyter.widget-view+json": {
       "model_id": "6d1871759fde4b6bbd83010dc29101d9",
       "version_major": 2,
       "version_minor": 0
      },
      "text/plain": [
       "  0%|          | 0/3 [00:00<?, ?it/s]"
      ]
     },
     "metadata": {},
     "output_type": "display_data"
    }
   ],
   "source": [
    "from datasets import load_dataset, load_metric\n",
    "\n",
    "data = load_dataset(\"/home/kmb85/SpeechBrainQuant/LibriSpeech\")"
   ]
  },
  {
   "cell_type": "code",
   "execution_count": 3,
   "id": "72159ae4",
   "metadata": {},
   "outputs": [],
   "source": [
    "from parse_data import parse_to_json\n",
    "import json\n",
    "import os\n",
    "\n",
    "parse_to_json(\"./LibriSpeech/dev-clean\")\n",
    "os.rename('data.json', 'dev-clean.json')\n",
    "with open('/home/kmb85/SpeechBrainQuant/dev-clean.json', 'r') as file:\n",
    "    dev_clean_data = json.load(file)\n",
    "\n",
    "parse_to_json(\"./LibriSpeech/test-clean\")\n",
    "os.rename('data.json', 'test-clean.json')\n",
    "with open('/home/kmb85/SpeechBrainQuant/test-clean.json', 'r') as file:\n",
    "    test_clean_data = json.load(file)"
   ]
  },
  {
   "cell_type": "code",
   "execution_count": 4,
   "id": "0f474fd1",
   "metadata": {},
   "outputs": [],
   "source": [
    "dev_clean_dict = {}\n",
    "for key, value in dev_clean_data.items():\n",
    "    new_key = key.replace('-', '')\n",
    "    dev_clean_dict[new_key] = value"
   ]
  },
  {
   "cell_type": "code",
   "execution_count": 5,
   "id": "f1dd7a66",
   "metadata": {},
   "outputs": [],
   "source": [
    "test_clean_dict = {}\n",
    "for key, value in test_clean_data.items():\n",
    "    new_key = key.replace('-', '')\n",
    "    test_clean_dict[new_key] = value"
   ]
  },
  {
   "cell_type": "code",
   "execution_count": 6,
   "id": "b83c09d6",
   "metadata": {},
   "outputs": [],
   "source": [
    "import soundfile as sf\n",
    "import resampy\n",
    "\n",
    "def flac_to_array_with_sampling_rate(file_path, target_sr=16000):\n",
    "    data, sr = sf.read(file_path, dtype='float32')\n",
    "\n",
    "    if sr != target_sr:\n",
    "        data = resampy.resample(data, sr, target_sr)\n",
    "\n",
    "    return data"
   ]
  },
  {
   "cell_type": "code",
   "execution_count": 7,
   "id": "947b0ffb",
   "metadata": {},
   "outputs": [],
   "source": [
    "import re\n",
    "chars_to_ignore_regex = '[\\,\\?\\.\\!\\-\\;\\:\\\"]'\n",
    "\n",
    "def remove_special_characters_dev(batch):\n",
    "    batch[\"text\"] = re.sub(chars_to_ignore_regex, '', batch[\"text\"]).lower() + \" \"\n",
    "    trimmed_string = batch[\"text\"].strip()\n",
    "    words = trimmed_string.split()\n",
    "    new_text = ' '.join(words[1:])\n",
    "    batch[\"text\"] = new_text\n",
    "    batch[\"input_values\"] = flac_to_array_with_sampling_rate(dev_clean_dict[words[0]]['file_path'])\n",
    "    return batch"
   ]
  },
  {
   "cell_type": "code",
   "execution_count": null,
   "id": "0d1a8c26",
   "metadata": {},
   "outputs": [],
   "source": [
    "data['validation'] = data['validation'].map(remove_special_characters_dev)"
   ]
  },
  {
   "cell_type": "code",
   "execution_count": 9,
   "id": "da82949c",
   "metadata": {},
   "outputs": [],
   "source": [
    "import re\n",
    "chars_to_ignore_regex = '[\\,\\?\\.\\!\\-\\;\\:\\\"]'\n",
    "\n",
    "def remove_special_characters_test(batch):\n",
    "    batch[\"text\"] = re.sub(chars_to_ignore_regex, '', batch[\"text\"]).lower() + \" \"\n",
    "    trimmed_string = batch[\"text\"].strip()\n",
    "    words = trimmed_string.split()\n",
    "    new_text = ' '.join(words[1:])\n",
    "    batch[\"text\"] = new_text\n",
    "    batch[\"input_values\"] = flac_to_array_with_sampling_rate(test_clean_dict[words[0]]['file_path'])\n",
    "    return batch"
   ]
  },
  {
   "cell_type": "code",
   "execution_count": null,
   "id": "f9d7b028",
   "metadata": {},
   "outputs": [],
   "source": [
    "data['test'] = data['test'].map(remove_special_characters_test)"
   ]
  },
  {
   "cell_type": "markdown",
   "id": "8c187860",
   "metadata": {},
   "source": [
    "## Base Model Traing"
   ]
  },
  {
   "cell_type": "code",
   "execution_count": 11,
   "id": "10f3ed61",
   "metadata": {},
   "outputs": [],
   "source": [
    "hparams_file = 'hparams/train_hf_wav2vec_base.yaml'\n",
    "run_opts = {\"device\":\"cuda\"}"
   ]
  },
  {
   "cell_type": "code",
   "execution_count": null,
   "id": "ee711739",
   "metadata": {},
   "outputs": [],
   "source": [
    "sb.utils.distributed.ddp_init_group(run_opts)\n",
    "\n",
    "with open(hparams_file) as fin:\n",
    "    hparams = load_hyperpyyaml(fin, '')\n",
    "\n",
    "sb.create_experiment_directory(\n",
    "    experiment_directory=hparams[\"output_folder\"],\n",
    "    hyperparams_to_save=hparams_file,\n",
    "    overrides='',\n",
    ")"
   ]
  },
  {
   "cell_type": "code",
   "execution_count": null,
   "id": "d6ad5954",
   "metadata": {},
   "outputs": [],
   "source": [
    "from librispeech_prepare import prepare_librispeech\n",
    "\n",
    "run_on_main(\n",
    "    prepare_librispeech,\n",
    "    kwargs={\n",
    "        \"data_folder\": hparams[\"data_folder\"],\n",
    "        \"tr_splits\": hparams[\"train_splits\"],\n",
    "        \"dev_splits\": hparams[\"dev_splits\"],\n",
    "        \"te_splits\": hparams[\"test_splits\"],\n",
    "        \"save_folder\": hparams[\"output_folder\"],\n",
    "        \"merge_lst\": hparams[\"train_splits\"],\n",
    "        \"merge_name\": \"train.csv\",\n",
    "        \"skip_prep\": hparams[\"skip_prep\"],\n",
    "    },\n",
    ")"
   ]
  },
  {
   "cell_type": "code",
   "execution_count": 14,
   "id": "b8cf4a63",
   "metadata": {},
   "outputs": [
    {
     "name": "stdout",
     "output_type": "stream",
     "text": [
      "speechbrain.dataio.encoder - Moving label 'T' from index 0, because '<blank>' was put at its place.\n",
      "speechbrain.dataio.encoder - Load called, but CTCTextEncoder is not empty. Loaded data will overwrite everything. This is normal if there is e.g. an unk label defined at init.\n"
     ]
    }
   ],
   "source": [
    "train_data, valid_data, test_datasets, label_encoder = dataio_prepare(\n",
    "    hparams\n",
    ")\n",
    "\n",
    "if hasattr(hparams, \"use_language_modelling\"):\n",
    "    if hparams[\"use_language_modelling\"]:\n",
    "        try:\n",
    "            from pyctcdecode import build_ctcdecoder\n",
    "        except ImportError:\n",
    "            err_msg = \"Optional dependencies must be installed to use pyctcdecode.\\n\"\n",
    "            err_msg += \"Install using `pip install kenlm pyctcdecode`.\\n\"\n",
    "            raise ImportError(err_msg)\n",
    "\n",
    "        ind2lab = label_encoder.ind2lab\n",
    "        labels = [ind2lab[x] for x in range(len(ind2lab))]\n",
    "        labels = [\"\"] + labels[\n",
    "            1:\n",
    "        ]\n",
    "        decoder = build_ctcdecoder(\n",
    "            labels,\n",
    "            kenlm_model_path=hparams[\"ngram_lm_path\"],  # .arpa or .bin\n",
    "            alpha=0.5,  # Default by KenLM\n",
    "            beta=1.0,  # Default by KenLM\n",
    "        )\n",
    "else:\n",
    "    hparams[\"use_language_modelling\"] = False"
   ]
  },
  {
   "cell_type": "code",
   "execution_count": 15,
   "id": "7a686a64",
   "metadata": {},
   "outputs": [
    {
     "name": "stdout",
     "output_type": "stream",
     "text": [
      "speechbrain.core - Info: auto_mix_prec arg from hparam file is used\n",
      "speechbrain.core - Info: ckpt_interval_minutes arg from hparam file is used\n",
      "speechbrain.core - 2.1M trainable parameters in ASR\n"
     ]
    }
   ],
   "source": [
    "asr_brain_base = ASR(\n",
    "    modules=hparams[\"modules\"],\n",
    "    hparams=hparams,\n",
    "    run_opts=run_opts,\n",
    "    checkpointer=hparams[\"checkpointer\"],\n",
    ")\n",
    "\n",
    "if \"pretrainer\" in hparams.keys():\n",
    "    run_on_main(hparams[\"pretrainer\"].collect_files)\n",
    "    hparams[\"pretrainer\"].load_collected('cuda')\n",
    "\n",
    "asr_brain_base.tokenizer = label_encoder"
   ]
  },
  {
   "cell_type": "code",
   "execution_count": null,
   "id": "2efb4534",
   "metadata": {
    "scrolled": true
   },
   "outputs": [],
   "source": [
    "asr_brain_base.fit(\n",
    "    asr_brain_base.hparams.epoch_counter,\n",
    "    train_data,\n",
    "    valid_data,\n",
    "    train_loader_kwargs=hparams[\"train_dataloader_opts\"],\n",
    "    valid_loader_kwargs=hparams[\"valid_dataloader_opts\"],\n",
    ")"
   ]
  },
  {
   "cell_type": "code",
   "execution_count": null,
   "id": "1f356297",
   "metadata": {},
   "outputs": [],
   "source": [
    "# Testing\n",
    "if not os.path.exists(hparams[\"output_wer_folder\"]):\n",
    "    os.makedirs(hparams[\"output_wer_folder\"])\n",
    "\n",
    "for k in test_datasets.keys():\n",
    "    asr_brain_base.hparams.test_wer_file = os.path.join(\n",
    "        hparams[\"output_wer_folder\"], f\"wer_{k}.txt\"\n",
    "    )\n",
    "    asr_brain_base.evaluate(\n",
    "        test_datasets[k],\n",
    "        test_loader_kwargs=hparams[\"test_dataloader_opts\"],\n",
    "        min_key=\"WER\",\n",
    "    )"
   ]
  },
  {
   "cell_type": "code",
   "execution_count": null,
   "id": "8456bd49",
   "metadata": {},
   "outputs": [],
   "source": [
    "torch.onnx.export(asr_brain_base.modules.wav2vec2.model,\n",
    "     torch.tensor(data['validation'][:1]['input_values']).cuda(),\n",
    "     f=\"asr-wav2vec2-librispeech-finetuned-base.onnx\",\n",
    "     export_params=True,\n",
    "     opset_version=17,\n",
    "     do_constant_folding=True,\n",
    "     input_names = ['modelInput'],\n",
    "     output_names = ['modelOutput'],\n",
    "     dynamic_axes={'modelInput' : {0 : 'batch_size', 1: 'batch_size'},\n",
    "     'modelOutput' : {0 : 'batch_size'}}\n",
    ")"
   ]
  },
  {
   "cell_type": "markdown",
   "id": "38745cd0",
   "metadata": {},
   "source": [
    "## Quantization-Aware Training"
   ]
  },
  {
   "cell_type": "code",
   "execution_count": 11,
   "id": "f8f0d66a",
   "metadata": {},
   "outputs": [],
   "source": [
    "hparams_file = 'hparams/train_hf_wav2vec_quantized.yaml'\n",
    "run_opts = {\"device\":\"cuda\"}"
   ]
  },
  {
   "cell_type": "code",
   "execution_count": 12,
   "id": "2093688e",
   "metadata": {},
   "outputs": [
    {
     "data": {
      "application/vnd.jupyter.widget-view+json": {
       "model_id": "3309a1050f7243af81226aa848c3c746",
       "version_major": 2,
       "version_minor": 0
      },
      "text/plain": [
       "Downloading:   0%|          | 0.00/158 [00:00<?, ?B/s]"
      ]
     },
     "metadata": {},
     "output_type": "display_data"
    },
    {
     "data": {
      "application/vnd.jupyter.widget-view+json": {
       "model_id": "758bdb6f1925409bb44d4758580e36ce",
       "version_major": 2,
       "version_minor": 0
      },
      "text/plain": [
       "Downloading:   0%|          | 0.00/1.57k [00:00<?, ?B/s]"
      ]
     },
     "metadata": {},
     "output_type": "display_data"
    },
    {
     "data": {
      "application/vnd.jupyter.widget-view+json": {
       "model_id": "f3c16158457949fcaeee349e0e79b71a",
       "version_major": 2,
       "version_minor": 0
      },
      "text/plain": [
       "Downloading:   0%|          | 0.00/1.18G [00:00<?, ?B/s]"
      ]
     },
     "metadata": {},
     "output_type": "display_data"
    },
    {
     "name": "stderr",
     "output_type": "stream",
     "text": [
      "/home/kmb85/.local/lib/python3.10/site-packages/torch/nn/utils/weight_norm.py:30: UserWarning: torch.nn.utils.weight_norm is deprecated in favor of torch.nn.utils.parametrizations.weight_norm.\n",
      "  warnings.warn(\"torch.nn.utils.weight_norm is deprecated in favor of torch.nn.utils.parametrizations.weight_norm.\")\n",
      "Some weights of the model checkpoint at facebook/wav2vec2-large-960h-lv60-self were not used when initializing Wav2Vec2Model: ['lm_head.weight', 'lm_head.bias']\n",
      "- This IS expected if you are initializing Wav2Vec2Model from the checkpoint of a model trained on another task or with another architecture (e.g. initializing a BertForSequenceClassification model from a BertForPreTraining model).\n",
      "- This IS NOT expected if you are initializing Wav2Vec2Model from the checkpoint of a model that you expect to be exactly identical (initializing a BertForSequenceClassification model from a BertForSequenceClassification model).\n",
      "Some weights of Wav2Vec2Model were not initialized from the model checkpoint at facebook/wav2vec2-large-960h-lv60-self and are newly initialized: ['wav2vec2.masked_spec_embed']\n",
      "You should probably TRAIN this model on a down-stream task to be able to use it for predictions and inference.\n",
      "speechbrain.lobes.models.huggingface_wav2vec - wav2vec 2.0 is frozen.\n"
     ]
    },
    {
     "name": "stdout",
     "output_type": "stream",
     "text": [
      "speechbrain.core - Beginning experiment!\n",
      "speechbrain.core - Experiment folder: results/train_wav2vec2_char/1987\n"
     ]
    }
   ],
   "source": [
    "sb.utils.distributed.ddp_init_group(run_opts)\n",
    "\n",
    "with open(hparams_file) as fin:\n",
    "    hparams = load_hyperpyyaml(fin, '')\n",
    "\n",
    "sb.create_experiment_directory(\n",
    "    experiment_directory=hparams[\"output_folder\"],\n",
    "    hyperparams_to_save=hparams_file,\n",
    "    overrides='',\n",
    ")"
   ]
  },
  {
   "cell_type": "code",
   "execution_count": null,
   "id": "cad812fe",
   "metadata": {},
   "outputs": [],
   "source": [
    "from librispeech_prepare import prepare_librispeech\n",
    "\n",
    "run_on_main(\n",
    "    prepare_librispeech,\n",
    "    kwargs={\n",
    "        \"data_folder\": hparams[\"data_folder\"],\n",
    "        \"tr_splits\": hparams[\"train_splits\"],\n",
    "        \"dev_splits\": hparams[\"dev_splits\"],\n",
    "        \"te_splits\": hparams[\"test_splits\"],\n",
    "        \"save_folder\": hparams[\"output_folder\"],\n",
    "        \"merge_lst\": hparams[\"train_splits\"],\n",
    "        \"merge_name\": \"train.csv\",\n",
    "        \"skip_prep\": hparams[\"skip_prep\"],\n",
    "    },\n",
    ")"
   ]
  },
  {
   "cell_type": "code",
   "execution_count": 14,
   "id": "6955b034",
   "metadata": {},
   "outputs": [
    {
     "name": "stdout",
     "output_type": "stream",
     "text": [
      "speechbrain.dataio.encoder - Load called, but CTCTextEncoder is not empty. Loaded data will overwrite everything. This is normal if there is e.g. an unk label defined at init.\n"
     ]
    }
   ],
   "source": [
    "train_data, valid_data, test_datasets, label_encoder = dataio_prepare(\n",
    "    hparams\n",
    ")\n",
    "\n",
    "if hasattr(hparams, \"use_language_modelling\"):\n",
    "    if hparams[\"use_language_modelling\"]:\n",
    "        try:\n",
    "            from pyctcdecode import build_ctcdecoder\n",
    "        except ImportError:\n",
    "            err_msg = \"Optional dependencies must be installed to use pyctcdecode.\\n\"\n",
    "            err_msg += \"Install using `pip install kenlm pyctcdecode`.\\n\"\n",
    "            raise ImportError(err_msg)\n",
    "\n",
    "        ind2lab = label_encoder.ind2lab\n",
    "        labels = [ind2lab[x] for x in range(len(ind2lab))]\n",
    "        labels = [\"\"] + labels[\n",
    "            1:\n",
    "        ]\n",
    "        decoder = build_ctcdecoder(\n",
    "            labels,\n",
    "            kenlm_model_path=hparams[\"ngram_lm_path\"],  # .arpa or .bin\n",
    "            alpha=0.5,  # Default by KenLM\n",
    "            beta=1.0,  # Default by KenLM\n",
    "        )\n",
    "else:\n",
    "    hparams[\"use_language_modelling\"] = False"
   ]
  },
  {
   "cell_type": "code",
   "execution_count": 15,
   "id": "419fcfad",
   "metadata": {},
   "outputs": [
    {
     "name": "stdout",
     "output_type": "stream",
     "text": [
      "speechbrain.core - Info: auto_mix_prec arg from hparam file is used\n",
      "speechbrain.core - Info: ckpt_interval_minutes arg from hparam file is used\n",
      "speechbrain.core - 2.1M trainable parameters in ASR\n"
     ]
    }
   ],
   "source": [
    "asr_brain_quantized = ASR(\n",
    "    modules=hparams[\"modules\"],\n",
    "    hparams=hparams,\n",
    "    run_opts=run_opts,\n",
    "    checkpointer=hparams[\"checkpointer\"],\n",
    ")\n",
    "\n",
    "if \"pretrainer\" in hparams.keys():\n",
    "    run_on_main(hparams[\"pretrainer\"].collect_files)\n",
    "    hparams[\"pretrainer\"].load_collected('cuda')\n",
    "\n",
    "asr_brain_quantized.tokenizer = label_encoder"
   ]
  },
  {
   "cell_type": "code",
   "execution_count": 24,
   "id": "4a719757",
   "metadata": {},
   "outputs": [],
   "source": [
    "import tensorrt"
   ]
  },
  {
   "cell_type": "code",
   "execution_count": 25,
   "id": "a0eff129",
   "metadata": {},
   "outputs": [],
   "source": [
    "import os\n",
    "os.environ['TRANSFORMERS_CACHE'] = '/home/kmb85/rds/hpc-work/huggingface'\n",
    "os.environ['HF_HOME']='/home/kmb85/rds/hpc-work/huggingface'"
   ]
  },
  {
   "cell_type": "code",
   "execution_count": 26,
   "id": "a83387f5",
   "metadata": {},
   "outputs": [],
   "source": [
    "from pytorch_quantization import nn as quant_nn\n",
    "from pytorch_quantization import quant_modules\n",
    "from pytorch_quantization.tensor_quant import QuantDescriptor\n",
    "from pytorch_quantization import calib"
   ]
  },
  {
   "cell_type": "code",
   "execution_count": 27,
   "id": "7a6acf68",
   "metadata": {},
   "outputs": [],
   "source": [
    "quant_desc_input = QuantDescriptor(calib_method='max', num_bits=8, fake_quant=True)\n",
    "quant_nn.QuantConv1d.set_default_quant_desc_input(quant_desc_input)\n",
    "quant_nn.QuantLinear.set_default_quant_desc_input(quant_desc_input)"
   ]
  },
  {
   "cell_type": "code",
   "execution_count": 29,
   "id": "ee72273f",
   "metadata": {},
   "outputs": [
    {
     "data": {
      "application/vnd.jupyter.widget-view+json": {
       "model_id": "05a50d56ff0d40ee887e887e1ba3e14d",
       "version_major": 2,
       "version_minor": 0
      },
      "text/plain": [
       "hyperparams.yaml:   0%|          | 0.00/1.78k [00:00<?, ?B/s]"
      ]
     },
     "metadata": {},
     "output_type": "display_data"
    },
    {
     "data": {
      "application/vnd.jupyter.widget-view+json": {
       "model_id": "f333b8eeaa7f4e36a51760d34d44fcfd",
       "version_major": 2,
       "version_minor": 0
      },
      "text/plain": [
       "Downloading:   0%|          | 0.00/1.18G [00:00<?, ?B/s]"
      ]
     },
     "metadata": {},
     "output_type": "display_data"
    },
    {
     "name": "stderr",
     "output_type": "stream",
     "text": [
      "Some weights of the model checkpoint at facebook/wav2vec2-large-960h-lv60-self were not used when initializing Wav2Vec2Model: ['lm_head.weight', 'lm_head.bias']\n",
      "- This IS expected if you are initializing Wav2Vec2Model from the checkpoint of a model trained on another task or with another architecture (e.g. initializing a BertForSequenceClassification model from a BertForPreTraining model).\n",
      "- This IS NOT expected if you are initializing Wav2Vec2Model from the checkpoint of a model that you expect to be exactly identical (initializing a BertForSequenceClassification model from a BertForSequenceClassification model).\n",
      "Some weights of Wav2Vec2Model were not initialized from the model checkpoint at facebook/wav2vec2-large-960h-lv60-self and are newly initialized: ['wav2vec2.masked_spec_embed']\n",
      "You should probably TRAIN this model on a down-stream task to be able to use it for predictions and inference.\n"
     ]
    },
    {
     "name": "stdout",
     "output_type": "stream",
     "text": [
      "speechbrain.lobes.models.huggingface_wav2vec - speechbrain.lobes.models.huggingface_wav2vec - wav2vec 2.0 is frozen.\n"
     ]
    },
    {
     "name": "stderr",
     "output_type": "stream",
     "text": [
      "WARNING: Logging before flag parsing goes to stderr.\n",
      "W0108 14:06:04.263104 140341998555136 huggingface_wav2vec.py:146] speechbrain.lobes.models.huggingface_wav2vec - wav2vec 2.0 is frozen.\n"
     ]
    },
    {
     "data": {
      "application/vnd.jupyter.widget-view+json": {
       "model_id": "c8f1ba8193a746f988646cf91969635f",
       "version_major": 2,
       "version_minor": 0
      },
      "text/plain": [
       "wav2vec2.ckpt:   0%|          | 0.00/1.26G [00:00<?, ?B/s]"
      ]
     },
     "metadata": {},
     "output_type": "display_data"
    },
    {
     "data": {
      "application/vnd.jupyter.widget-view+json": {
       "model_id": "47d8f27ff97f4ef39aa3a8299744f795",
       "version_major": 2,
       "version_minor": 0
      },
      "text/plain": [
       "asr.ckpt:   0%|          | 0.00/8.53M [00:00<?, ?B/s]"
      ]
     },
     "metadata": {},
     "output_type": "display_data"
    },
    {
     "data": {
      "application/vnd.jupyter.widget-view+json": {
       "model_id": "fb3e5efed8014a1a9f18d3583b4da7e1",
       "version_major": 2,
       "version_minor": 0
      },
      "text/plain": [
       "tokenizer.ckpt:   0%|          | 0.00/426 [00:00<?, ?B/s]"
      ]
     },
     "metadata": {},
     "output_type": "display_data"
    }
   ],
   "source": [
    "from speechbrain.pretrained import EncoderASR\n",
    "\n",
    "quant_modules.initialize()\n",
    "model_full_quantized = EncoderASR.from_hparams(source=\"speechbrain/asr-wav2vec2-librispeech\", run_opts={\"device\":\"cuda\"})"
   ]
  },
  {
   "cell_type": "code",
   "execution_count": 30,
   "id": "3bdb0e87",
   "metadata": {},
   "outputs": [],
   "source": [
    "model_full_quantized.mods.encoder.wav2vec2.model.feature_extractor.conv_layers[0].conv._weight_quantizer.enable_calib()\n",
    "model_full_quantized.mods.encoder.wav2vec2.model.feature_extractor.conv_layers[0].conv._weight_quantizer.disable_quant()"
   ]
  },
  {
   "cell_type": "code",
   "execution_count": 31,
   "id": "b8ec83e8",
   "metadata": {},
   "outputs": [],
   "source": [
    "model_full_quantized = model_full_quantized.to('cuda')"
   ]
  },
  {
   "cell_type": "code",
   "execution_count": 33,
   "id": "99acb40d",
   "metadata": {},
   "outputs": [],
   "source": [
    "import torch\n",
    "with torch.no_grad():\n",
    "    for i in range(2000):\n",
    "            input_value = torch.tensor(data[\"validation\"][i:i+1][\"input_values\"], device=\"cuda\")\n",
    "            _ = model_full_quantized.mods.encoder.wav2vec2.model(input_value)"
   ]
  },
  {
   "cell_type": "code",
   "execution_count": 34,
   "id": "bcc152f6",
   "metadata": {},
   "outputs": [
    {
     "name": "stdout",
     "output_type": "stream",
     "text": [
      "absl - Load calibrated amax, shape=torch.Size([512, 1, 1]).\n"
     ]
    },
    {
     "name": "stderr",
     "output_type": "stream",
     "text": [
      "W0108 14:13:53.678715 140341998555136 tensor_quantizer.py:238] Load calibrated amax, shape=torch.Size([512, 1, 1]).\n"
     ]
    },
    {
     "name": "stdout",
     "output_type": "stream",
     "text": [
      "absl - Call .cuda() if running on GPU after loading calibrated amax.\n"
     ]
    },
    {
     "name": "stderr",
     "output_type": "stream",
     "text": [
      "W0108 14:13:53.681514 140341998555136 tensor_quantizer.py:239] Call .cuda() if running on GPU after loading calibrated amax.\n"
     ]
    },
    {
     "name": "stdout",
     "output_type": "stream",
     "text": [
      "absl - Disable MaxCalibrator\n"
     ]
    },
    {
     "name": "stderr",
     "output_type": "stream",
     "text": [
      "W0108 14:13:53.682647 140341998555136 tensor_quantizer.py:174] Disable MaxCalibrator\n"
     ]
    },
    {
     "data": {
      "text/plain": [
       "EncoderASR(\n",
       "  (mods): ModuleDict(\n",
       "    (encoder): LengthsCapableSequential(\n",
       "      (wav2vec2): HuggingFaceWav2Vec2(\n",
       "        (model): Wav2Vec2Model(\n",
       "          (feature_extractor): Wav2Vec2FeatureEncoder(\n",
       "            (conv_layers): ModuleList(\n",
       "              (0): Wav2Vec2LayerNormConvLayer(\n",
       "                (conv): QuantConv1d(\n",
       "                  1, 512, kernel_size=(10,), stride=(5,)\n",
       "                  (_input_quantizer): TensorQuantizer(8bit fake per-tensor amax=dynamic calibrator=MaxCalibrator scale=1.0 quant)\n",
       "                  (_weight_quantizer): TensorQuantizer(8bit fake axis=0 amax=[0.0071, 0.6079](512) calibrator=MaxCalibrator scale=1.0 quant)\n",
       "                )\n",
       "                (layer_norm): LayerNorm((512,), eps=1e-05, elementwise_affine=True)\n",
       "                (activation): GELUActivation()\n",
       "              )\n",
       "              (1-4): 4 x Wav2Vec2LayerNormConvLayer(\n",
       "                (conv): QuantConv1d(\n",
       "                  512, 512, kernel_size=(3,), stride=(2,)\n",
       "                  (_input_quantizer): TensorQuantizer(8bit fake per-tensor amax=dynamic calibrator=MaxCalibrator scale=1.0 quant)\n",
       "                  (_weight_quantizer): TensorQuantizer(8bit fake axis=0 amax=dynamic calibrator=MaxCalibrator scale=1.0 quant)\n",
       "                )\n",
       "                (layer_norm): LayerNorm((512,), eps=1e-05, elementwise_affine=True)\n",
       "                (activation): GELUActivation()\n",
       "              )\n",
       "              (5-6): 2 x Wav2Vec2LayerNormConvLayer(\n",
       "                (conv): QuantConv1d(\n",
       "                  512, 512, kernel_size=(2,), stride=(2,)\n",
       "                  (_input_quantizer): TensorQuantizer(8bit fake per-tensor amax=dynamic calibrator=MaxCalibrator scale=1.0 quant)\n",
       "                  (_weight_quantizer): TensorQuantizer(8bit fake axis=0 amax=dynamic calibrator=MaxCalibrator scale=1.0 quant)\n",
       "                )\n",
       "                (layer_norm): LayerNorm((512,), eps=1e-05, elementwise_affine=True)\n",
       "                (activation): GELUActivation()\n",
       "              )\n",
       "            )\n",
       "          )\n",
       "          (feature_projection): Wav2Vec2FeatureProjection(\n",
       "            (layer_norm): LayerNorm((512,), eps=1e-05, elementwise_affine=True)\n",
       "            (projection): QuantLinear(\n",
       "              in_features=512, out_features=1024, bias=True\n",
       "              (_input_quantizer): TensorQuantizer(8bit fake per-tensor amax=dynamic calibrator=MaxCalibrator scale=1.0 quant)\n",
       "              (_weight_quantizer): TensorQuantizer(8bit fake axis=0 amax=dynamic calibrator=MaxCalibrator scale=1.0 quant)\n",
       "            )\n",
       "            (dropout): Dropout(p=0.1, inplace=False)\n",
       "          )\n",
       "          (encoder): Wav2Vec2EncoderStableLayerNorm(\n",
       "            (pos_conv_embed): Wav2Vec2PositionalConvEmbedding(\n",
       "              (conv): QuantConv1d(\n",
       "                1024, 1024, kernel_size=(128,), stride=(1,), padding=(64,), groups=16\n",
       "                (_input_quantizer): TensorQuantizer(8bit fake per-tensor amax=dynamic calibrator=MaxCalibrator scale=1.0 quant)\n",
       "                (_weight_quantizer): TensorQuantizer(8bit fake axis=0 amax=dynamic calibrator=MaxCalibrator scale=1.0 quant)\n",
       "              )\n",
       "              (padding): Wav2Vec2SamePadLayer()\n",
       "              (activation): GELUActivation()\n",
       "            )\n",
       "            (layer_norm): LayerNorm((1024,), eps=1e-05, elementwise_affine=True)\n",
       "            (dropout): Dropout(p=0.1, inplace=False)\n",
       "            (layers): ModuleList(\n",
       "              (0-23): 24 x Wav2Vec2EncoderLayerStableLayerNorm(\n",
       "                (attention): Wav2Vec2Attention(\n",
       "                  (k_proj): QuantLinear(\n",
       "                    in_features=1024, out_features=1024, bias=True\n",
       "                    (_input_quantizer): TensorQuantizer(8bit fake per-tensor amax=dynamic calibrator=MaxCalibrator scale=1.0 quant)\n",
       "                    (_weight_quantizer): TensorQuantizer(8bit fake axis=0 amax=dynamic calibrator=MaxCalibrator scale=1.0 quant)\n",
       "                  )\n",
       "                  (v_proj): QuantLinear(\n",
       "                    in_features=1024, out_features=1024, bias=True\n",
       "                    (_input_quantizer): TensorQuantizer(8bit fake per-tensor amax=dynamic calibrator=MaxCalibrator scale=1.0 quant)\n",
       "                    (_weight_quantizer): TensorQuantizer(8bit fake axis=0 amax=dynamic calibrator=MaxCalibrator scale=1.0 quant)\n",
       "                  )\n",
       "                  (q_proj): QuantLinear(\n",
       "                    in_features=1024, out_features=1024, bias=True\n",
       "                    (_input_quantizer): TensorQuantizer(8bit fake per-tensor amax=dynamic calibrator=MaxCalibrator scale=1.0 quant)\n",
       "                    (_weight_quantizer): TensorQuantizer(8bit fake axis=0 amax=dynamic calibrator=MaxCalibrator scale=1.0 quant)\n",
       "                  )\n",
       "                  (out_proj): QuantLinear(\n",
       "                    in_features=1024, out_features=1024, bias=True\n",
       "                    (_input_quantizer): TensorQuantizer(8bit fake per-tensor amax=dynamic calibrator=MaxCalibrator scale=1.0 quant)\n",
       "                    (_weight_quantizer): TensorQuantizer(8bit fake axis=0 amax=dynamic calibrator=MaxCalibrator scale=1.0 quant)\n",
       "                  )\n",
       "                )\n",
       "                (dropout): Dropout(p=0.1, inplace=False)\n",
       "                (layer_norm): LayerNorm((1024,), eps=1e-05, elementwise_affine=True)\n",
       "                (feed_forward): Wav2Vec2FeedForward(\n",
       "                  (intermediate_dropout): Dropout(p=0.1, inplace=False)\n",
       "                  (intermediate_dense): QuantLinear(\n",
       "                    in_features=1024, out_features=4096, bias=True\n",
       "                    (_input_quantizer): TensorQuantizer(8bit fake per-tensor amax=dynamic calibrator=MaxCalibrator scale=1.0 quant)\n",
       "                    (_weight_quantizer): TensorQuantizer(8bit fake axis=0 amax=dynamic calibrator=MaxCalibrator scale=1.0 quant)\n",
       "                  )\n",
       "                  (intermediate_act_fn): GELUActivation()\n",
       "                  (output_dense): QuantLinear(\n",
       "                    in_features=4096, out_features=1024, bias=True\n",
       "                    (_input_quantizer): TensorQuantizer(8bit fake per-tensor amax=dynamic calibrator=MaxCalibrator scale=1.0 quant)\n",
       "                    (_weight_quantizer): TensorQuantizer(8bit fake axis=0 amax=dynamic calibrator=MaxCalibrator scale=1.0 quant)\n",
       "                  )\n",
       "                  (output_dropout): Dropout(p=0.1, inplace=False)\n",
       "                )\n",
       "                (final_layer_norm): LayerNorm((1024,), eps=1e-05, elementwise_affine=True)\n",
       "              )\n",
       "            )\n",
       "          )\n",
       "        )\n",
       "      )\n",
       "      (enc): VanillaNN(\n",
       "        (linear): Linear(\n",
       "          (w): QuantLinear(\n",
       "            in_features=1024, out_features=1024, bias=True\n",
       "            (_input_quantizer): TensorQuantizer(8bit fake per-tensor amax=dynamic calibrator=MaxCalibrator scale=1.0 quant)\n",
       "            (_weight_quantizer): TensorQuantizer(8bit fake axis=0 amax=dynamic calibrator=MaxCalibrator scale=1.0 quant)\n",
       "          )\n",
       "        )\n",
       "        (act): LeakyReLU(negative_slope=0.01)\n",
       "        (linear_0): Linear(\n",
       "          (w): QuantLinear(\n",
       "            in_features=1024, out_features=1024, bias=True\n",
       "            (_input_quantizer): TensorQuantizer(8bit fake per-tensor amax=dynamic calibrator=MaxCalibrator scale=1.0 quant)\n",
       "            (_weight_quantizer): TensorQuantizer(8bit fake axis=0 amax=dynamic calibrator=MaxCalibrator scale=1.0 quant)\n",
       "          )\n",
       "        )\n",
       "        (act_0): LeakyReLU(negative_slope=0.01)\n",
       "      )\n",
       "      (ctc_lin): Linear(\n",
       "        (w): QuantLinear(\n",
       "          in_features=1024, out_features=31, bias=True\n",
       "          (_input_quantizer): TensorQuantizer(8bit fake per-tensor amax=dynamic calibrator=MaxCalibrator scale=1.0 quant)\n",
       "          (_weight_quantizer): TensorQuantizer(8bit fake axis=0 amax=dynamic calibrator=MaxCalibrator scale=1.0 quant)\n",
       "        )\n",
       "      )\n",
       "    )\n",
       "  )\n",
       ")"
      ]
     },
     "execution_count": 34,
     "metadata": {},
     "output_type": "execute_result"
    }
   ],
   "source": [
    "# Finalize calibration\n",
    "\n",
    "model_full_quantized.mods.encoder.wav2vec2.model.feature_extractor.conv_layers[0].conv._weight_quantizer.load_calib_amax()\n",
    "model_full_quantized.mods.encoder.wav2vec2.model.feature_extractor.conv_layers[0].conv._weight_quantizer.disable_calib()\n",
    "model_full_quantized.mods.encoder.wav2vec2.model.feature_extractor.conv_layers[0].conv._weight_quantizer.enable_quant()\n",
    "\n",
    "model_full_quantized.cuda()"
   ]
  },
  {
   "cell_type": "code",
   "execution_count": 35,
   "id": "c1b077bf",
   "metadata": {},
   "outputs": [],
   "source": [
    "asr_brain_quantized.modules.wav2vec2.model.feature_extractor.conv_layers[0].conv = model_full_quantized.mods.encoder.wav2vec2.model.feature_extractor.conv_layers[0].conv"
   ]
  },
  {
   "cell_type": "code",
   "execution_count": null,
   "id": "386f3a09",
   "metadata": {},
   "outputs": [],
   "source": [
    "asr_brain_quantized.fit(\n",
    "    asr_brain_quantized.hparams.epoch_counter,\n",
    "    train_data,\n",
    "    valid_data,\n",
    "    train_loader_kwargs=hparams[\"train_dataloader_opts\"],\n",
    "    valid_loader_kwargs=hparams[\"valid_dataloader_opts\"],\n",
    ")"
   ]
  },
  {
   "cell_type": "code",
   "execution_count": 1,
   "id": "6e26ae65",
   "metadata": {},
   "outputs": [
    {
     "name": "stdout",
     "output_type": "stream",
     "text": [
      "speechbrain.utils.train_logger - Epoch loaded: 2 - test loss: 4.83e-02, test CER: 6.08e-01, test WER: 3.64\n"
     ]
    }
   ],
   "source": [
    "# Testing\n",
    "if not os.path.exists(hparams[\"output_wer_folder\"]):\n",
    "    os.makedirs(hparams[\"output_wer_folder\"])\n",
    "\n",
    "for k in test_datasets.keys():\n",
    "    asr_brain_quantized.hparams.test_wer_file = os.path.join(\n",
    "        hparams[\"output_wer_folder\"], f\"wer_{k}.txt\"\n",
    "    )\n",
    "    asr_brain_quantized.evaluate(\n",
    "        test_datasets[k],\n",
    "        test_loader_kwargs=hparams[\"test_dataloader_opts\"],\n",
    "        min_key=\"WER\",\n",
    "    )"
   ]
  },
  {
   "cell_type": "code",
   "execution_count": 39,
   "id": "0ba611da",
   "metadata": {},
   "outputs": [
    {
     "name": "stderr",
     "output_type": "stream",
     "text": [
      "/home/kmb85/.local/lib/python3.10/site-packages/pytorch_quantization/tensor_quant.py:257: TracerWarning: Converting a tensor to a Python boolean might cause the trace to be incorrect. We can't record the data flow of Python values, so this value will be treated as a constant in the future. This means that the trace might not generalize to other inputs!\n",
      "  if amax.numel() == 1:\n",
      "/home/kmb85/.local/lib/python3.10/site-packages/pytorch_quantization/tensor_quant.py:260: TracerWarning: Converting a tensor to a Python boolean might cause the trace to be incorrect. We can't record the data flow of Python values, so this value will be treated as a constant in the future. This means that the trace might not generalize to other inputs!\n",
      "  axis = amax.shape.index(amax.numel())\n"
     ]
    }
   ],
   "source": [
    "torch.onnx.export(asr_brain_quantized.modules.wav2vec2.model,\n",
    "     torch.tensor(data['validation'][:1]['input_values']).cuda(),\n",
    "     f=\"asr-wav2vec2-librispeech-qat.onnx\",\n",
    "     export_params=True,\n",
    "     opset_version=17,\n",
    "     do_constant_folding=True,\n",
    "     input_names = ['modelInput'],\n",
    "     output_names = ['modelOutput'],\n",
    "     dynamic_axes={'modelInput' : {0 : 'batch_size', 1: 'batch_size'},\n",
    "     'modelOutput' : {0 : 'batch_size'}}\n",
    ")"
   ]
  },
  {
   "cell_type": "markdown",
   "id": "27fca267",
   "metadata": {},
   "source": [
    "## Base vs Quantized Model Accuracy"
   ]
  },
  {
   "cell_type": "code",
   "execution_count": 2,
   "id": "0227e556",
   "metadata": {},
   "outputs": [
    {
     "data": {
      "image/png": "[encoded data removed]",
      "text/plain": [
       "<Figure size 1000x600 with 1 Axes>"
      ]
     },
     "metadata": {},
     "output_type": "display_data"
    }
   ],
   "source": [
    "import matplotlib.pyplot as plt\n",
    "\n",
    "models = ['Base', 'Quantized']\n",
    "inference_times = [2.37, 3.64]\n",
    "\n",
    "plt.figure(figsize=(10, 6))\n",
    "plt.bar(models, inference_times)\n",
    "plt.xlabel('Model')\n",
    "plt.ylabel('Word error rate(WER)')\n",
    "plt.title('WER Comparison: Base and Quantized')\n",
    "plt.ylim(0, max(inference_times) * 1.1)\n",
    "plt.show()"
   ]
  },
  {
   "cell_type": "code",
   "execution_count": 5,
   "id": "55952338",
   "metadata": {},
   "outputs": [
    {
     "name": "stdout",
     "output_type": "stream",
     "text": [
      "WER difference between the quantized model and the base model is 34.89%\n"
     ]
    }
   ],
   "source": [
    "percentage_diff = ((3.64 - 2.37) / 3.64) * 100\n",
    "print(f'WER difference between the quantized model and the base model is {round(percentage_diff, 2)}%')"
   ]
  },
  {
   "cell_type": "markdown",
   "id": "98d8e306",
   "metadata": {},
   "source": [
    "## Base vs Quantized Model Inference Time"
   ]
  },
  {
   "cell_type": "code",
   "execution_count": 21,
   "id": "2b5f233d",
   "metadata": {},
   "outputs": [
    {
     "data": {
      "text/plain": [
       "'GPU'"
      ]
     },
     "execution_count": 21,
     "metadata": {},
     "output_type": "execute_result"
    }
   ],
   "source": [
    "import onnxruntime as ort\n",
    "ort.get_device()"
   ]
  },
  {
   "cell_type": "code",
   "execution_count": null,
   "id": "2e91dc93",
   "metadata": {},
   "outputs": [],
   "source": [
    "ort_sess_base = ort.InferenceSession('asr-wav2vec2-librispeech-finetuned-base.onnx')\n",
    "ort_sess_quantized = ort.InferenceSession('asr-wav2vec2-librispeech-qat.onnx', providers=['TensorrtExecutionProvider'])\n"
   ]
  },
  {
   "cell_type": "code",
   "execution_count": 27,
   "id": "56045837",
   "metadata": {},
   "outputs": [],
   "source": [
    "import time\n",
    "import numpy\n",
    "\n",
    "def compute_inference_time(ort_sess, num_samples):\n",
    "    model_time = 0\n",
    "    with torch.no_grad():\n",
    "        for single_batch in data[\"test\"].select(range(num_samples)):\n",
    "            input_values = torch.tensor(single_batch[\"input_values\"], device=\"cpu\").unsqueeze(0)\n",
    "            input_values = input_values.clone().detach().numpy().astype(numpy.float32)\n",
    "            starttime = time.time()\n",
    "            ort_sess.run(['modelOutput'], {'modelInput': input_values})\n",
    "            model_time += time.time() - starttime\n",
    "    return round(model_time/num_samples, 8)"
   ]
  },
  {
   "cell_type": "code",
   "execution_count": 28,
   "id": "a3ec0d05",
   "metadata": {},
   "outputs": [],
   "source": [
    "num_samples = 50\n",
    "\n",
    "base_model_time = compute_inference_time(ort_sess_base, num_samples)"
   ]
  },
  {
   "cell_type": "code",
   "execution_count": 29,
   "id": "6493183a",
   "metadata": {},
   "outputs": [
    {
     "name": "stdout",
     "output_type": "stream",
     "text": [
      "Base Fine-Tuned Model inference time 0.45936726 seconds\n"
     ]
    }
   ],
   "source": [
    "print(f'Base Fine-Tuned Model inference time {base_model_time} seconds')"
   ]
  },
  {
   "cell_type": "code",
   "execution_count": 33,
   "id": "0a68e55a",
   "metadata": {},
   "outputs": [],
   "source": [
    "quantized_model_time = compute_inference_time(ort_sess_quantized, num_samples)"
   ]
  },
  {
   "cell_type": "code",
   "execution_count": 34,
   "id": "069db4a7",
   "metadata": {},
   "outputs": [
    {
     "name": "stdout",
     "output_type": "stream",
     "text": [
      "Quantization Aware Trained Model inference time 0.02008545 seconds\n"
     ]
    }
   ],
   "source": [
    "print(f'Quantization Aware Trained Model inference time {quantized_model_time} seconds')"
   ]
  },
  {
   "cell_type": "code",
   "execution_count": 35,
   "id": "8f143877",
   "metadata": {},
   "outputs": [
    {
     "data": {
      "image/png": "[encoded data removed]",
      "text/plain": [
       "<Figure size 720x432 with 1 Axes>"
      ]
     },
     "metadata": {
      "needs_background": "light"
     },
     "output_type": "display_data"
    }
   ],
   "source": [
    "import matplotlib.pyplot as plt\n",
    "\n",
    "models = ['Base', 'Quantized']\n",
    "inference_times = [base_model_time, quantized_model_time]\n",
    "\n",
    "plt.figure(figsize=(10, 6))\n",
    "plt.bar(models, inference_times)\n",
    "plt.xlabel('Model')\n",
    "plt.ylabel('Inference Time (seconds)')\n",
    "plt.title('Inference Time Comparison: Base Fine-Tuned and Quantization Aware Trained')\n",
    "plt.ylim(0, max(inference_times) * 1.1)\n",
    "plt.show()"
   ]
  }
 ],
 "metadata": {
  "kernelspec": {
   "display_name": "Python 3 (ipykernel)",
   "language": "python",
   "name": "python3"
  },
  "language_info": {
   "codemirror_mode": {
    "name": "ipython",
    "version": 3
   },
   "file_extension": ".py",
   "mimetype": "text/x-python",
   "name": "python",
   "nbconvert_exporter": "python",
   "pygments_lexer": "ipython3",
   "version": "3.9.6"
  }
 },
 "nbformat": 4,
 "nbformat_minor": 5
}
