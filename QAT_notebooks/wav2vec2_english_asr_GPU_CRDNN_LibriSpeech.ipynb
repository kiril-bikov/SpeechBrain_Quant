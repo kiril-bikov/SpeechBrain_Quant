{
 "cells": [
  {
   "cell_type": "markdown",
   "id": "590528f4",
   "metadata": {},
   "source": [
    "# Quantization-Aware Training  of SpeechBrain CRDNN on GPU\n"
   ]
  },
  {
   "cell_type": "markdown",
   "id": "91676ae2",
   "metadata": {},
   "source": [
    "This notebook provides code for quantization-aware training  of the speechbrain/asr-crdnn-rnnlm-librispeech model. We compare fine-tuned base model and quantization-aware trained model on the LibriSpeech dataset. Training is performed for two epochs."
   ]
  },
  {
   "cell_type": "markdown",
   "id": "95ba4a75",
   "metadata": {},
   "source": [
    "First, we define the ASR class and write helper functions"
   ]
  },
  {
   "cell_type": "code",
   "execution_count": 57,
   "id": "59b081d7",
   "metadata": {},
   "outputs": [],
   "source": [
    "import sys\n",
    "import torch\n",
    "import logging\n",
    "import speechbrain as sb\n",
    "from speechbrain.utils.distributed import run_on_main, if_main_process\n",
    "from hyperpyyaml import load_hyperpyyaml\n",
    "from pathlib import Path\n",
    "\n",
    "class ASR(sb.Brain):\n",
    "    def compute_forward(self, batch, stage):\n",
    "        \"\"\"Forward computations from the waveform batches to the output probabilities.\"\"\"\n",
    "        batch = batch.to(self.device)\n",
    "        wavs, wav_lens = batch.sig\n",
    "        tokens_bos, _ = batch.tokens_bos\n",
    "        wavs, wav_lens = wavs.to(self.device), wav_lens.to(self.device)\n",
    "\n",
    "        # Add augmentation if specified\n",
    "        if stage == sb.Stage.TRAIN:\n",
    "            if hasattr(self.modules, \"env_corrupt\"):\n",
    "                wavs_noise = self.modules.env_corrupt(wavs, wav_lens)\n",
    "                wavs = torch.cat([wavs, wavs_noise], dim=0)\n",
    "                wav_lens = torch.cat([wav_lens, wav_lens])\n",
    "                tokens_bos = torch.cat([tokens_bos, tokens_bos], dim=0)\n",
    "\n",
    "            if hasattr(self.hparams, \"augmentation\"):\n",
    "                wavs = self.hparams.augmentation(wavs, wav_lens)\n",
    "\n",
    "        # Forward pass\n",
    "        feats = self.hparams.compute_features(wavs)\n",
    "        feats = self.modules.normalize(feats, wav_lens)\n",
    "        x = self.modules.enc(feats.detach())\n",
    "        e_in = self.modules.emb(tokens_bos)  # y_in bos + tokens\n",
    "        h, _ = self.modules.dec(e_in, x, wav_lens)\n",
    "\n",
    "        # Output layer for seq2seq log-probabilities\n",
    "        logits = self.modules.seq_lin(h)\n",
    "        p_seq = self.hparams.log_softmax(logits)\n",
    "\n",
    "        # Compute outputs\n",
    "        if stage == sb.Stage.TRAIN:\n",
    "            current_epoch = self.hparams.epoch_counter.current\n",
    "            if current_epoch <= self.hparams.number_of_ctc_epochs:\n",
    "                # Output layer for ctc log-probabilities\n",
    "                logits = self.modules.ctc_lin(x)\n",
    "                p_ctc = self.hparams.log_softmax(logits)\n",
    "                return p_ctc, p_seq, wav_lens\n",
    "            else:\n",
    "                return p_seq, wav_lens\n",
    "        else:\n",
    "            if stage == sb.Stage.VALID:\n",
    "                p_tokens, scores = self.hparams.valid_search(x, wav_lens)\n",
    "            else:\n",
    "                p_tokens, scores = self.hparams.test_search(x, wav_lens)\n",
    "            return p_seq, wav_lens, p_tokens\n",
    "\n",
    "    def compute_objectives(self, predictions, batch, stage):\n",
    "        \"\"\"Computes the loss (CTC+NLL) given predictions and targets.\"\"\"\n",
    "\n",
    "        current_epoch = self.hparams.epoch_counter.current\n",
    "        if stage == sb.Stage.TRAIN:\n",
    "            if current_epoch <= self.hparams.number_of_ctc_epochs:\n",
    "                p_ctc, p_seq, wav_lens = predictions\n",
    "            else:\n",
    "                p_seq, wav_lens = predictions\n",
    "        else:\n",
    "            p_seq, wav_lens, predicted_tokens = predictions\n",
    "\n",
    "        ids = batch.id\n",
    "        tokens_eos, tokens_eos_lens = batch.tokens_eos\n",
    "        tokens, tokens_lens = batch.tokens\n",
    "\n",
    "        if hasattr(self.modules, \"env_corrupt\") and stage == sb.Stage.TRAIN:\n",
    "            tokens_eos = torch.cat([tokens_eos, tokens_eos], dim=0)\n",
    "            tokens_eos_lens = torch.cat(\n",
    "                [tokens_eos_lens, tokens_eos_lens], dim=0\n",
    "            )\n",
    "            tokens = torch.cat([tokens, tokens], dim=0)\n",
    "            tokens_lens = torch.cat([tokens_lens, tokens_lens], dim=0)\n",
    "\n",
    "        loss_seq = self.hparams.seq_cost(\n",
    "            p_seq, tokens_eos, length=tokens_eos_lens\n",
    "        )\n",
    "\n",
    "        # Add ctc loss if necessary\n",
    "        if (\n",
    "            stage == sb.Stage.TRAIN\n",
    "            and current_epoch <= self.hparams.number_of_ctc_epochs\n",
    "        ):\n",
    "            loss_ctc = self.hparams.ctc_cost(\n",
    "                p_ctc, tokens, wav_lens, tokens_lens\n",
    "            )\n",
    "            loss = self.hparams.ctc_weight * loss_ctc\n",
    "            loss += (1 - self.hparams.ctc_weight) * loss_seq\n",
    "        else:\n",
    "            loss = loss_seq\n",
    "\n",
    "        if stage != sb.Stage.TRAIN:\n",
    "            # Decode token terms to words\n",
    "            predicted_words = [\n",
    "                self.tokenizer.decode_ids(utt_seq).split(\" \")\n",
    "                for utt_seq in predicted_tokens\n",
    "            ]\n",
    "            target_words = [wrd.split(\" \") for wrd in batch.wrd]\n",
    "            self.wer_metric.append(ids, predicted_words, target_words)\n",
    "            self.cer_metric.append(ids, predicted_words, target_words)\n",
    "\n",
    "        return loss\n",
    "\n",
    "    def fit_batch(self, batch):\n",
    "        \"\"\"Train the parameters given a single batch in input\"\"\"\n",
    "        predictions = self.compute_forward(batch, sb.Stage.TRAIN)\n",
    "        loss = self.compute_objectives(predictions, batch, sb.Stage.TRAIN)\n",
    "        loss.backward()\n",
    "        if self.check_gradients(loss):\n",
    "            self.optimizer.step()\n",
    "        self.optimizer.zero_grad()\n",
    "        return loss.detach()\n",
    "\n",
    "    def evaluate_batch(self, batch, stage):\n",
    "        \"\"\"Computations needed for validation/test batches\"\"\"\n",
    "        predictions = self.compute_forward(batch, stage=stage)\n",
    "        with torch.no_grad():\n",
    "            loss = self.compute_objectives(predictions, batch, stage=stage)\n",
    "        return loss.detach()\n",
    "\n",
    "    def on_stage_start(self, stage, epoch):\n",
    "        \"\"\"Gets called at the beginning of each epoch\"\"\"\n",
    "        if stage != sb.Stage.TRAIN:\n",
    "            self.cer_metric = self.hparams.cer_computer()\n",
    "            self.wer_metric = self.hparams.error_rate_computer()\n",
    "\n",
    "    def on_stage_end(self, stage, stage_loss, epoch):\n",
    "        \"\"\"Gets called at the end of a epoch.\"\"\"\n",
    "        # Compute/store important stats\n",
    "        stage_stats = {\"loss\": stage_loss}\n",
    "        if stage == sb.Stage.TRAIN:\n",
    "            self.train_stats = stage_stats\n",
    "        else:\n",
    "            stage_stats[\"CER\"] = self.cer_metric.summarize(\"error_rate\")\n",
    "            stage_stats[\"WER\"] = self.wer_metric.summarize(\"error_rate\")\n",
    "\n",
    "        # Perform end-of-iteration things, like annealing, logging, etc.\n",
    "        if stage == sb.Stage.VALID:\n",
    "            old_lr, new_lr = self.hparams.lr_annealing(stage_stats[\"WER\"])\n",
    "            sb.nnet.schedulers.update_learning_rate(self.optimizer, new_lr)\n",
    "            self.hparams.train_logger.log_stats(\n",
    "                stats_meta={\"epoch\": epoch, \"lr\": old_lr},\n",
    "                train_stats=self.train_stats,\n",
    "                valid_stats=stage_stats,\n",
    "            )\n",
    "            self.checkpointer.save_and_keep_only(\n",
    "                meta={\"WER\": stage_stats[\"WER\"]}, min_keys=[\"WER\"],\n",
    "            )\n",
    "        elif stage == sb.Stage.TEST:\n",
    "            self.hparams.train_logger.log_stats(\n",
    "                stats_meta={\"Epoch loaded\": self.hparams.epoch_counter.current},\n",
    "                test_stats=stage_stats,\n",
    "            )\n",
    "            if if_main_process():\n",
    "                with open(self.hparams.test_wer_file, \"w\") as w:\n",
    "                    self.wer_metric.write_stats(w)\n",
    "\n",
    "\n",
    "def dataio_prepare(hparams):\n",
    "    \"\"\"This function prepares the datasets to be used in the brain class.\n",
    "    It also defines the data processing pipeline through user-defined functions.\"\"\"\n",
    "    data_folder = hparams[\"data_folder\"]\n",
    "\n",
    "    train_data = sb.dataio.dataset.DynamicItemDataset.from_csv(\n",
    "        csv_path=hparams[\"train_csv\"], replacements={\"data_root\": data_folder},\n",
    "    )\n",
    "\n",
    "    if hparams[\"sorting\"] == \"ascending\":\n",
    "        # we sort training data to speed up training and get better results.\n",
    "        train_data = train_data.filtered_sorted(sort_key=\"duration\")\n",
    "        # when sorting do not shuffle in dataloader ! otherwise is pointless\n",
    "        hparams[\"train_dataloader_opts\"][\"shuffle\"] = False\n",
    "\n",
    "    elif hparams[\"sorting\"] == \"descending\":\n",
    "        train_data = train_data.filtered_sorted(\n",
    "            sort_key=\"duration\", reverse=True\n",
    "        )\n",
    "        # when sorting do not shuffle in dataloader ! otherwise is pointless\n",
    "        hparams[\"train_dataloader_opts\"][\"shuffle\"] = False\n",
    "\n",
    "    elif hparams[\"sorting\"] == \"random\":\n",
    "        pass\n",
    "\n",
    "    else:\n",
    "        raise NotImplementedError(\n",
    "            \"sorting must be random, ascending or descending\"\n",
    "        )\n",
    "\n",
    "    valid_data = sb.dataio.dataset.DynamicItemDataset.from_csv(\n",
    "        csv_path=hparams[\"valid_csv\"], replacements={\"data_root\": data_folder},\n",
    "    )\n",
    "    valid_data = valid_data.filtered_sorted(sort_key=\"duration\")\n",
    "\n",
    "    # test is separate\n",
    "    test_datasets = {}\n",
    "    for csv_file in hparams[\"test_csv\"]:\n",
    "        name = Path(csv_file).stem\n",
    "        test_datasets[name] = sb.dataio.dataset.DynamicItemDataset.from_csv(\n",
    "            csv_path=csv_file, replacements={\"data_root\": data_folder}\n",
    "        )\n",
    "        test_datasets[name] = test_datasets[name].filtered_sorted(\n",
    "            sort_key=\"duration\"\n",
    "        )\n",
    "\n",
    "    datasets = [train_data, valid_data] + [i for k, i in test_datasets.items()]\n",
    "\n",
    "    # We get the tokenizer as we need it to encode the labels when creating\n",
    "    # mini-batches.\n",
    "    tokenizer = hparams[\"tokenizer\"]\n",
    "\n",
    "    # 2. Define audio pipeline:\n",
    "    @sb.utils.data_pipeline.takes(\"wav\")\n",
    "    @sb.utils.data_pipeline.provides(\"sig\")\n",
    "    def audio_pipeline(wav):\n",
    "        sig = sb.dataio.dataio.read_audio(wav)\n",
    "        return sig\n",
    "\n",
    "    sb.dataio.dataset.add_dynamic_item(datasets, audio_pipeline)\n",
    "\n",
    "    # 3. Define text pipeline:\n",
    "    @sb.utils.data_pipeline.takes(\"wrd\")\n",
    "    @sb.utils.data_pipeline.provides(\n",
    "        \"wrd\", \"tokens_list\", \"tokens_bos\", \"tokens_eos\", \"tokens\"\n",
    "    )\n",
    "    def text_pipeline(wrd):\n",
    "        yield wrd\n",
    "        tokens_list = tokenizer.encode_as_ids(wrd)\n",
    "        yield tokens_list\n",
    "        tokens_bos = torch.LongTensor([hparams[\"bos_index\"]] + (tokens_list))\n",
    "        yield tokens_bos\n",
    "        tokens_eos = torch.LongTensor(tokens_list + [hparams[\"eos_index\"]])\n",
    "        yield tokens_eos\n",
    "        tokens = torch.LongTensor(tokens_list)\n",
    "        yield tokens\n",
    "\n",
    "    sb.dataio.dataset.add_dynamic_item(datasets, text_pipeline)\n",
    "\n",
    "    # 4. Set output:\n",
    "    sb.dataio.dataset.set_output_keys(\n",
    "        datasets, [\"id\", \"sig\", \"wrd\", \"tokens_bos\", \"tokens_eos\", \"tokens\"],\n",
    "    )\n",
    "    train_batch_sampler = None\n",
    "    valid_batch_sampler = None\n",
    "    if hparams[\"dynamic_batching\"]:\n",
    "        from speechbrain.dataio.sampler import DynamicBatchSampler  # noqa\n",
    "        from speechbrain.dataio.dataloader import SaveableDataLoader  # noqa\n",
    "        from speechbrain.dataio.batch import PaddedBatch  # noqa\n",
    "\n",
    "        dynamic_hparams = hparams[\"dynamic_batch_sampler\"]\n",
    "        hop_size = dynamic_hparams[\"feats_hop_size\"]\n",
    "\n",
    "        num_buckets = dynamic_hparams[\"num_buckets\"]\n",
    "\n",
    "        train_batch_sampler = DynamicBatchSampler(\n",
    "            train_data,\n",
    "            dynamic_hparams[\"max_batch_len\"],\n",
    "            num_buckets=num_buckets,\n",
    "            length_func=lambda x: x[\"duration\"] * (1 / hop_size),\n",
    "            shuffle=dynamic_hparams[\"shuffle_ex\"],\n",
    "            batch_ordering=dynamic_hparams[\"batch_ordering\"],\n",
    "        )\n",
    "\n",
    "        valid_batch_sampler = DynamicBatchSampler(\n",
    "            valid_data,\n",
    "            dynamic_hparams[\"max_batch_len\"],\n",
    "            num_buckets=num_buckets,\n",
    "            length_func=lambda x: x[\"duration\"] * (1 / hop_size),\n",
    "            shuffle=dynamic_hparams[\"shuffle_ex\"],\n",
    "            batch_ordering=dynamic_hparams[\"batch_ordering\"],\n",
    "        )\n",
    "\n",
    "    return (\n",
    "        train_data,\n",
    "        valid_data,\n",
    "        test_datasets,\n",
    "        train_batch_sampler,\n",
    "        valid_batch_sampler,\n",
    "    )"
   ]
  },
  {
   "cell_type": "markdown",
   "id": "44db9015",
   "metadata": {},
   "source": [
    "## Prepare Data"
   ]
  },
  {
   "cell_type": "code",
   "execution_count": null,
   "id": "ed7b444b",
   "metadata": {},
   "outputs": [],
   "source": [
    "from datasets import load_dataset, load_metric\n",
    "\n",
    "data = load_dataset(\"/home/kmb85/SpeechBrainQuant/LibriSpeech\")"
   ]
  },
  {
   "cell_type": "code",
   "execution_count": 59,
   "id": "72159ae4",
   "metadata": {},
   "outputs": [],
   "source": [
    "from parse_data import parse_to_json\n",
    "import json\n",
    "import os\n",
    "\n",
    "parse_to_json(\"./LibriSpeech/dev-clean\")\n",
    "os.rename('data.json', 'dev-clean.json')\n",
    "with open('/home/kmb85/SpeechBrainQuant/dev-clean.json', 'r') as file:\n",
    "    dev_clean_data = json.load(file)\n",
    "\n",
    "parse_to_json(\"./LibriSpeech/test-clean\")\n",
    "os.rename('data.json', 'test-clean.json')\n",
    "with open('/home/kmb85/SpeechBrainQuant/test-clean.json', 'r') as file:\n",
    "    test_clean_data = json.load(file)"
   ]
  },
  {
   "cell_type": "code",
   "execution_count": 60,
   "id": "0f474fd1",
   "metadata": {},
   "outputs": [],
   "source": [
    "dev_clean_dict = {}\n",
    "for key, value in dev_clean_data.items():\n",
    "    new_key = key.replace('-', '')\n",
    "    dev_clean_dict[new_key] = value"
   ]
  },
  {
   "cell_type": "code",
   "execution_count": 61,
   "id": "f1dd7a66",
   "metadata": {},
   "outputs": [],
   "source": [
    "test_clean_dict = {}\n",
    "for key, value in test_clean_data.items():\n",
    "    new_key = key.replace('-', '')\n",
    "    test_clean_dict[new_key] = value"
   ]
  },
  {
   "cell_type": "code",
   "execution_count": 62,
   "id": "b83c09d6",
   "metadata": {},
   "outputs": [],
   "source": [
    "import soundfile as sf\n",
    "import resampy\n",
    "\n",
    "def flac_to_array_with_sampling_rate(file_path, target_sr=16000):\n",
    "    data, sr = sf.read(file_path, dtype='float32')\n",
    "\n",
    "    if sr != target_sr:\n",
    "        data = resampy.resample(data, sr, target_sr)\n",
    "\n",
    "    return data"
   ]
  },
  {
   "cell_type": "code",
   "execution_count": 63,
   "id": "947b0ffb",
   "metadata": {},
   "outputs": [],
   "source": [
    "import re\n",
    "chars_to_ignore_regex = '[\\,\\?\\.\\!\\-\\;\\:\\\"]'\n",
    "\n",
    "def remove_special_characters_dev(batch):\n",
    "    batch[\"text\"] = re.sub(chars_to_ignore_regex, '', batch[\"text\"]).lower() + \" \"\n",
    "    trimmed_string = batch[\"text\"].strip()\n",
    "    words = trimmed_string.split()\n",
    "    new_text = ' '.join(words[1:])\n",
    "    batch[\"text\"] = new_text\n",
    "    batch[\"input_values\"] = flac_to_array_with_sampling_rate(dev_clean_dict[words[0]]['file_path'])\n",
    "    return batch"
   ]
  },
  {
   "cell_type": "code",
   "execution_count": 64,
   "id": "0d1a8c26",
   "metadata": {},
   "outputs": [
    {
     "data": {
      "application/vnd.jupyter.widget-view+json": {
       "model_id": "0eb19896b29f4ca6979d7f452820300b",
       "version_major": 2,
       "version_minor": 0
      },
      "text/plain": [
       "0ex [00:00, ?ex/s]"
      ]
     },
     "metadata": {},
     "output_type": "display_data"
    }
   ],
   "source": [
    "data['validation'] = data['validation'].map(remove_special_characters_dev)"
   ]
  },
  {
   "cell_type": "code",
   "execution_count": 65,
   "id": "da82949c",
   "metadata": {},
   "outputs": [],
   "source": [
    "import re\n",
    "chars_to_ignore_regex = '[\\,\\?\\.\\!\\-\\;\\:\\\"]'\n",
    "\n",
    "def remove_special_characters_test(batch):\n",
    "    batch[\"text\"] = re.sub(chars_to_ignore_regex, '', batch[\"text\"]).lower() + \" \"\n",
    "    trimmed_string = batch[\"text\"].strip()\n",
    "    words = trimmed_string.split()\n",
    "    new_text = ' '.join(words[1:])\n",
    "    batch[\"text\"] = new_text\n",
    "    batch[\"input_values\"] = flac_to_array_with_sampling_rate(test_clean_dict[words[0]]['file_path'])\n",
    "    return batch"
   ]
  },
  {
   "cell_type": "code",
   "execution_count": 66,
   "id": "f9d7b028",
   "metadata": {},
   "outputs": [
    {
     "data": {
      "application/vnd.jupyter.widget-view+json": {
       "model_id": "9e2fe0332fac4021ac300d02757b2d24",
       "version_major": 2,
       "version_minor": 0
      },
      "text/plain": [
       "0ex [00:00, ?ex/s]"
      ]
     },
     "metadata": {},
     "output_type": "display_data"
    }
   ],
   "source": [
    "data['test'] = data['test'].map(remove_special_characters_test)"
   ]
  },
  {
   "cell_type": "markdown",
   "id": "8c187860",
   "metadata": {},
   "source": [
    "## Base Model Traing"
   ]
  },
  {
   "cell_type": "code",
   "execution_count": null,
   "id": "10f3ed61",
   "metadata": {},
   "outputs": [],
   "source": [
    "hparams_file = 'hparams/train_BPE_1000_base.yaml'\n",
    "run_opts = {\"device\":\"cuda\"}"
   ]
  },
  {
   "cell_type": "code",
   "execution_count": null,
   "id": "ee711739",
   "metadata": {},
   "outputs": [],
   "source": [
    "sb.utils.distributed.ddp_init_group(run_opts)\n",
    "\n",
    "with open(hparams_file) as fin:\n",
    "    hparams = load_hyperpyyaml(fin, None)\n",
    "\n",
    "sb.create_experiment_directory(\n",
    "    experiment_directory=hparams[\"output_folder\"],\n",
    "    hyperparams_to_save=hparams_file,\n",
    "    overrides=None,\n",
    ")"
   ]
  },
  {
   "cell_type": "code",
   "execution_count": null,
   "id": "d6ad5954",
   "metadata": {},
   "outputs": [],
   "source": [
    "from librispeech_prepare import prepare_librispeech\n",
    "\n",
    "run_on_main(\n",
    "    prepare_librispeech,\n",
    "    kwargs={\n",
    "        \"data_folder\": hparams[\"data_folder\"],\n",
    "        \"tr_splits\": hparams[\"train_splits\"],\n",
    "        \"dev_splits\": hparams[\"dev_splits\"],\n",
    "        \"te_splits\": hparams[\"test_splits\"],\n",
    "        \"save_folder\": hparams[\"output_folder\"],\n",
    "        \"merge_lst\": hparams[\"train_splits\"],\n",
    "        \"merge_name\": \"train.csv\",\n",
    "        \"skip_prep\": hparams[\"skip_prep\"],\n",
    "    },\n",
    ")"
   ]
  },
  {
   "cell_type": "code",
   "execution_count": null,
   "id": "b8cf4a63",
   "metadata": {},
   "outputs": [],
   "source": [
    "(\n",
    "    train_data,\n",
    "    valid_data,\n",
    "    test_datasets,\n",
    "    train_bsampler,\n",
    "    valid_bsampler,\n",
    ") = dataio_prepare(hparams)"
   ]
  },
  {
   "cell_type": "code",
   "execution_count": null,
   "id": "d254b1fd",
   "metadata": {},
   "outputs": [],
   "source": [
    "run_on_main(hparams[\"pretrainer\"].collect_files)\n",
    "hparams[\"pretrainer\"].load_collected(device=run_opts[\"device\"])"
   ]
  },
  {
   "cell_type": "code",
   "execution_count": null,
   "id": "6f215eec",
   "metadata": {},
   "outputs": [],
   "source": [
    "hparams[\"pretrainer\"]"
   ]
  },
  {
   "cell_type": "code",
   "execution_count": null,
   "id": "7a686a64",
   "metadata": {},
   "outputs": [],
   "source": [
    "asr_brain = ASR(\n",
    "    modules=hparams[\"modules\"],\n",
    "    opt_class=hparams[\"opt_class\"],\n",
    "    hparams=hparams,\n",
    "    run_opts=run_opts,\n",
    "    checkpointer=hparams[\"checkpointer\"],\n",
    ")\n",
    "\n",
    "asr_brain.tokenizer = hparams[\"tokenizer\"]\n",
    "train_dataloader_opts = hparams[\"train_dataloader_opts\"]\n",
    "valid_dataloader_opts = hparams[\"valid_dataloader_opts\"]\n",
    "\n",
    "if train_bsampler is not None:\n",
    "    train_dataloader_opts = {\"batch_sampler\": train_bsampler}\n",
    "if valid_bsampler is not None:\n",
    "    valid_dataloader_opts = {\"batch_sampler\": valid_bsampler}"
   ]
  },
  {
   "cell_type": "code",
   "execution_count": null,
   "id": "2efb4534",
   "metadata": {
    "scrolled": true
   },
   "outputs": [],
   "source": [
    "asr_brain.fit(\n",
    "        asr_brain.hparams.epoch_counter,\n",
    "        train_data,\n",
    "        valid_data,\n",
    "        train_loader_kwargs=train_dataloader_opts,\n",
    "        valid_loader_kwargs=valid_dataloader_opts,\n",
    ")"
   ]
  },
  {
   "cell_type": "code",
   "execution_count": 1,
   "id": "630b1b79",
   "metadata": {},
   "outputs": [
    {
     "name": "stdout",
     "output_type": "stream",
     "text": [
      "test WER: 3.23\n"
     ]
    }
   ],
   "source": [
    "# import os\n",
    "\n",
    "# Testing\n",
    "if not os.path.exists(hparams[\"output_wer_folder\"]):\n",
    "    os.makedirs(hparams[\"output_wer_folder\"])\n",
    "\n",
    "for k in test_datasets.keys():\n",
    "    asr_brain.hparams.test_wer_file = os.path.join(\n",
    "        hparams[\"output_wer_folder\"], f\"wer_{k}.txt\"\n",
    "    )\n",
    "    asr_brain.evaluate(\n",
    "        test_datasets[k],\n",
    "        test_loader_kwargs=hparams[\"test_dataloader_opts\"],\n",
    "        min_key=\"WER\",\n",
    "    )\n"
   ]
  },
  {
   "cell_type": "code",
   "execution_count": null,
   "id": "dad6af3d",
   "metadata": {},
   "outputs": [],
   "source": [
    "import torch\n",
    "with torch.no_grad():\n",
    "    features = hparams['compute_features'](torch.tensor(data['validation'][:1]['input_values']).cuda())"
   ]
  },
  {
   "cell_type": "code",
   "execution_count": null,
   "id": "8456bd49",
   "metadata": {},
   "outputs": [],
   "source": [
    "torch.onnx.export(asr_brain.modules.enc,\n",
    "     features.cuda(),\n",
    "     f=\"asr-crdnn-librispeech-base-finetuned.onnx\",\n",
    "     export_params=True,\n",
    "     opset_version=17,\n",
    "     do_constant_folding=True,\n",
    "     input_names = ['modelInput'],\n",
    "     output_names = ['modelOutput'],\n",
    "     dynamic_axes={'modelInput' : {0 : 'batch_size', 1: 'batch_size'},\n",
    "     'modelOutput' : {0 : 'batch_size'}}\n",
    ")"
   ]
  },
  {
   "cell_type": "markdown",
   "id": "38745cd0",
   "metadata": {},
   "source": [
    "## Quantization-Aware Training"
   ]
  },
  {
   "cell_type": "code",
   "execution_count": 67,
   "id": "f8f0d66a",
   "metadata": {},
   "outputs": [],
   "source": [
    "hparams_file = 'hparams/train_BPE_1000_quantized.yaml'\n",
    "run_opts = {\"device\":\"cuda\"}"
   ]
  },
  {
   "cell_type": "code",
   "execution_count": null,
   "id": "2093688e",
   "metadata": {},
   "outputs": [],
   "source": [
    "sb.utils.distributed.ddp_init_group(run_opts)\n",
    "\n",
    "with open(hparams_file) as fin:\n",
    "    hparams = load_hyperpyyaml(fin, None)\n",
    "\n",
    "sb.create_experiment_directory(\n",
    "    experiment_directory=hparams[\"output_folder\"],\n",
    "    hyperparams_to_save=hparams_file,\n",
    "    overrides=None,\n",
    ")"
   ]
  },
  {
   "cell_type": "code",
   "execution_count": null,
   "id": "c8ddf6c6",
   "metadata": {},
   "outputs": [],
   "source": [
    "from librispeech_prepare import prepare_librispeech\n",
    "\n",
    "run_on_main(\n",
    "    prepare_librispeech,\n",
    "    kwargs={\n",
    "        \"data_folder\": hparams[\"data_folder\"],\n",
    "        \"tr_splits\": hparams[\"train_splits\"],\n",
    "        \"dev_splits\": hparams[\"dev_splits\"],\n",
    "        \"te_splits\": hparams[\"test_splits\"],\n",
    "        \"save_folder\": hparams[\"output_folder\"],\n",
    "        \"merge_lst\": hparams[\"train_splits\"],\n",
    "        \"merge_name\": \"train.csv\",\n",
    "        \"skip_prep\": hparams[\"skip_prep\"],\n",
    "    },\n",
    ")"
   ]
  },
  {
   "cell_type": "code",
   "execution_count": 70,
   "id": "f24ad49d",
   "metadata": {},
   "outputs": [],
   "source": [
    "(\n",
    "    train_data,\n",
    "    valid_data,\n",
    "    test_datasets,\n",
    "    train_bsampler,\n",
    "    valid_bsampler,\n",
    ") = dataio_prepare(hparams)"
   ]
  },
  {
   "cell_type": "code",
   "execution_count": null,
   "id": "b43124f3",
   "metadata": {},
   "outputs": [],
   "source": [
    "run_on_main(hparams[\"pretrainer\"].collect_files)\n",
    "hparams[\"pretrainer\"].load_collected(device=run_opts[\"device\"])\n",
    "\n",
    "asr_brain_quantized = ASR(\n",
    "    modules=hparams[\"modules\"],\n",
    "    opt_class=hparams[\"opt_class\"],\n",
    "    hparams=hparams,\n",
    "    run_opts=run_opts,\n",
    "    checkpointer=hparams[\"checkpointer\"],\n",
    ")\n",
    "\n",
    "asr_brain_quantized.tokenizer = hparams[\"tokenizer\"]\n",
    "train_dataloader_opts = hparams[\"train_dataloader_opts\"]\n",
    "valid_dataloader_opts = hparams[\"valid_dataloader_opts\"]\n",
    "\n",
    "if train_bsampler is not None:\n",
    "    train_dataloader_opts = {\"batch_sampler\": train_bsampler}\n",
    "if valid_bsampler is not None:\n",
    "    valid_dataloader_opts = {\"batch_sampler\": valid_bsampler}"
   ]
  },
  {
   "cell_type": "code",
   "execution_count": 16,
   "id": "a83387f5",
   "metadata": {},
   "outputs": [],
   "source": [
    "from pytorch_quantization import nn as quant_nn\n",
    "from pytorch_quantization import quant_modules\n",
    "from pytorch_quantization.tensor_quant import QuantDescriptor\n",
    "from pytorch_quantization import calib"
   ]
  },
  {
   "cell_type": "code",
   "execution_count": 17,
   "id": "7a6acf68",
   "metadata": {},
   "outputs": [],
   "source": [
    "quant_desc_input = QuantDescriptor(calib_method='max', num_bits=8, fake_quant=True)\n",
    "quant_desc_weight = QuantDescriptor(num_bits=8, axis=(0))\n",
    "quant_nn.QuantConv1d.set_default_quant_desc_input(quant_desc_input)\n",
    "quant_nn.QuantConv1d.set_default_quant_desc_weight(quant_desc_weight)\n",
    "quant_nn.QuantLinear.set_default_quant_desc_input(quant_desc_input)\n",
    "quant_nn.QuantLinear.set_default_quant_desc_weight(quant_desc_weight)"
   ]
  },
  {
   "cell_type": "code",
   "execution_count": 18,
   "id": "ee72273f",
   "metadata": {},
   "outputs": [],
   "source": [
    "from speechbrain.pretrained import EncoderDecoderASR\n",
    "\n",
    "model_full_quantized = EncoderDecoderASR.from_hparams(source=\"speechbrain/asr-crdnn-rnnlm-librispeech\", savedir=\"pretrained_models/speechbrain/asr-crdnn-rnnlm-librispeech\", run_opts={\"device\":\"cuda\"})"
   ]
  },
  {
   "cell_type": "code",
   "execution_count": 19,
   "id": "3bdb0e87",
   "metadata": {},
   "outputs": [],
   "source": [
    "for name, module in model_full_quantized.mods.encoder.model.DNN.named_modules():\n",
    "    if name.endswith('_weight_quantizer'):\n",
    "        module.enable_calib()\n",
    "        module.disable_quant()"
   ]
  },
  {
   "cell_type": "code",
   "execution_count": 20,
   "id": "79f35bfb",
   "metadata": {},
   "outputs": [],
   "source": [
    "for name, module in model_full_quantized.mods.encoder.model.CNN.named_modules():\n",
    "    if name.endswith('_weight_quantizer'):\n",
    "        module.enable_calib()\n",
    "        module.disable_quant()"
   ]
  },
  {
   "cell_type": "code",
   "execution_count": 21,
   "id": "b8ec83e8",
   "metadata": {},
   "outputs": [],
   "source": [
    "model_full_quantized = model_full_quantized.to('cuda')"
   ]
  },
  {
   "cell_type": "code",
   "execution_count": 22,
   "id": "99acb40d",
   "metadata": {},
   "outputs": [],
   "source": [
    "import torch\n",
    "with torch.no_grad():\n",
    "    for i in range(2000):\n",
    "            input_value = torch.tensor(data[\"validation\"][i:i+1][\"input_values\"], device=\"cuda\")\n",
    "            _ = model_full_quantized(input_value, torch.tensor([1.0]).to('cuda'))"
   ]
  },
  {
   "cell_type": "code",
   "execution_count": 23,
   "id": "bcc152f6",
   "metadata": {},
   "outputs": [],
   "source": [
    "# Finalize calibration\n",
    "\n",
    "for name, module in model_full_quantized.mods.encoder.model.named_modules():\n",
    "    if name.endswith('_weight_quantizer'):\n",
    "        module.load_calib_amax()\n",
    "        module.disable_calib()\n",
    "        module.enable_quant()\n",
    "\n",
    "model_full_quantized = model_full_quantized.cuda()"
   ]
  },
  {
   "cell_type": "code",
   "execution_count": 24,
   "id": "a3960295",
   "metadata": {},
   "outputs": [],
   "source": [
    "asr_brain_quantized.modules.enc.DNN = model_full_quantized.mods.encoder.model.DNN\n",
    "asr_brain_quantized.modules.enc.CNN = model_full_quantized.mods.encoder.model.CNN"
   ]
  },
  {
   "cell_type": "code",
   "execution_count": null,
   "id": "386f3a09",
   "metadata": {},
   "outputs": [],
   "source": [
    "asr_brain_quantized.fit(\n",
    "    asr_brain_quantized.hparams.epoch_counter,\n",
    "    train_data,\n",
    "    valid_data,\n",
    "    train_loader_kwargs=hparams[\"train_dataloader_opts\"],\n",
    "    valid_loader_kwargs=hparams[\"valid_dataloader_opts\"],\n",
    ")"
   ]
  },
  {
   "cell_type": "code",
   "execution_count": 2,
   "id": "6e26ae65",
   "metadata": {},
   "outputs": [
    {
     "name": "stdout",
     "output_type": "stream",
     "text": [
      "test WER: 3.27\n"
     ]
    }
   ],
   "source": [
    "# Testing\n",
    "if not os.path.exists(hparams[\"output_wer_folder\"]):\n",
    "    os.makedirs(hparams[\"output_wer_folder\"])\n",
    "\n",
    "for k in test_datasets.keys():\n",
    "    asr_brain_quantized.hparams.test_wer_file = os.path.join(\n",
    "        hparams[\"output_wer_folder\"], f\"wer_{k}.txt\"\n",
    "    )\n",
    "    asr_brain_quantized.evaluate(\n",
    "        test_datasets[k],\n",
    "        test_loader_kwargs=hparams[\"test_dataloader_opts\"],\n",
    "        min_key=\"WER\",\n",
    "    )"
   ]
  },
  {
   "cell_type": "code",
   "execution_count": 72,
   "id": "1aec7355",
   "metadata": {},
   "outputs": [],
   "source": [
    "import torch\n",
    "with torch.no_grad():\n",
    "    features = hparams['compute_features'](torch.tensor(data['validation'][:1]['input_values']).cuda())"
   ]
  },
  {
   "cell_type": "code",
   "execution_count": 73,
   "id": "0ba611da",
   "metadata": {},
   "outputs": [],
   "source": [
    "torch.onnx.export(asr_brain_quantized.modules.enc,\n",
    "     features.cuda(),\n",
    "     f=\"asr-crdnn-librispeech-qat2.onnx\",\n",
    "     export_params=True,\n",
    "     opset_version=17,\n",
    "     do_constant_folding=True,\n",
    "     input_names = ['modelInput'],\n",
    "     output_names = ['modelOutput'],\n",
    "     dynamic_axes={'modelInput' : {0 : 'batch_size', 1: 'batch_size'},\n",
    "     'modelOutput' : {0 : 'batch_size'}}\n",
    ")"
   ]
  },
  {
   "cell_type": "markdown",
   "id": "27fca267",
   "metadata": {},
   "source": [
    "## Base vs Quantized Model Accuracy"
   ]
  },
  {
   "cell_type": "code",
   "execution_count": 3,
   "id": "0227e556",
   "metadata": {},
   "outputs": [
    {
     "data": {
      "image/png": "[encoded data removed]",
      "text/plain": [
       "<Figure size 1000x600 with 1 Axes>"
      ]
     },
     "metadata": {},
     "output_type": "display_data"
    }
   ],
   "source": [
    "import matplotlib.pyplot as plt\n",
    "\n",
    "models = ['Base', 'Quantized']\n",
    "inference_times = [3.23, 3.27]\n",
    "\n",
    "plt.figure(figsize=(10, 6))\n",
    "plt.bar(models, inference_times)\n",
    "plt.xlabel('Model')\n",
    "plt.ylabel('Word error rate(WER)')\n",
    "plt.title('WER Comparison: Base and Quantized')\n",
    "plt.ylim(0, max(inference_times) * 1.1)\n",
    "plt.show()"
   ]
  },
  {
   "cell_type": "code",
   "execution_count": 4,
   "id": "55952338",
   "metadata": {},
   "outputs": [
    {
     "name": "stdout",
     "output_type": "stream",
     "text": [
      "WER difference between the quantized model and the base model is 1.22%\n"
     ]
    }
   ],
   "source": [
    "percentage_diff = ((3.27 - 3.23) / 3.27) * 100\n",
    "print(f'WER difference between the quantized model and the base model is {round(percentage_diff, 2)}%')"
   ]
  },
  {
   "cell_type": "markdown",
   "id": "98d8e306",
   "metadata": {},
   "source": [
    "## Base vs Quantized Model Inference Time"
   ]
  },
  {
   "cell_type": "code",
   "execution_count": 51,
   "id": "2b5f233d",
   "metadata": {},
   "outputs": [
    {
     "data": {
      "text/plain": [
       "'GPU'"
      ]
     },
     "execution_count": 51,
     "metadata": {},
     "output_type": "execute_result"
    }
   ],
   "source": [
    "import onnxruntime as ort\n",
    "ort.get_device()"
   ]
  },
  {
   "cell_type": "code",
   "execution_count": 52,
   "id": "2e91dc93",
   "metadata": {},
   "outputs": [
    {
     "name": "stderr",
     "output_type": "stream",
     "text": [
      "2024-01-10 12:32:20.600255697 [W:onnxruntime:, session_state.cc:1162 VerifyEachNodeIsAssignedToAnEp] Some nodes were not assigned to the preferred execution providers which may or may not have an negative impact on performance. e.g. ORT explicitly assigns shape related ops to CPU to improve perf.\n",
      "2024-01-10 12:32:20.600280022 [W:onnxruntime:, session_state.cc:1164 VerifyEachNodeIsAssignedToAnEp] Rerunning with verbose output on a non-minimal build will show node assignments.\n"
     ]
    }
   ],
   "source": [
    "ort_sess_base = ort.InferenceSession('asr-wav2vec2-librispeech-finetuned-base.onnx')\n",
    "ort_sess_quantized = ort.InferenceSession('asr-crdnn-librispeech-qat.onnx', providers=['CUDAExecutionProvider'])\n"
   ]
  },
  {
   "cell_type": "code",
   "execution_count": 53,
   "id": "56045837",
   "metadata": {},
   "outputs": [],
   "source": [
    "import time\n",
    "import numpy\n",
    "\n",
    "def compute_inference_time(ort_sess, num_samples):\n",
    "    model_time = 0\n",
    "    with torch.no_grad():\n",
    "        for single_batch in data[\"test\"].select(range(num_samples)):\n",
    "            initial_input = torch.tensor([single_batch[\"input_values\"]]).cuda()\n",
    "            features_input = hparams['compute_features'](initial_input)\n",
    "            input_values = torch.tensor(features_input, device=\"cpu\")\n",
    "            input_values = input_values.clone().detach().numpy().astype(numpy.float32)\n",
    "            starttime = time.time()\n",
    "            ort_sess.run(['modelOutput'], {'modelInput': input_values})\n",
    "            model_time += time.time() - starttime\n",
    "    return round(model_time/num_samples, 8)"
   ]
  },
  {
   "cell_type": "code",
   "execution_count": 54,
   "id": "a3ec0d05",
   "metadata": {},
   "outputs": [],
   "source": [
    "num_samples = 50\n",
    "\n",
    "base_model_time = compute_inference_time(ort_sess_base, num_samples)"
   ]
  },
  {
   "cell_type": "code",
   "execution_count": 5,
   "id": "6493183a",
   "metadata": {},
   "outputs": [
    {
     "name": "stdout",
     "output_type": "stream",
     "text": [
      "Base Fine-Tuned Model inference time 0.48776673 seconds\n"
     ]
    }
   ],
   "source": [
    "print(f'Base Fine-Tuned Model inference time {base_model_time} seconds')"
   ]
  },
  {
   "cell_type": "code",
   "execution_count": null,
   "id": "0a68e55a",
   "metadata": {},
   "outputs": [],
   "source": [
    "quantized_model_time = compute_inference_time(ort_sess_quantized, num_samples)"
   ]
  },
  {
   "cell_type": "code",
   "execution_count": 56,
   "id": "069db4a7",
   "metadata": {},
   "outputs": [
    {
     "name": "stdout",
     "output_type": "stream",
     "text": [
      "Quantization Aware Trained Model inference time 0.1736392 seconds\n"
     ]
    }
   ],
   "source": [
    "print(f'Quantization Aware Trained Model inference time {quantized_model_time} seconds')"
   ]
  },
  {
   "cell_type": "code",
   "execution_count": 6,
   "id": "8f143877",
   "metadata": {},
   "outputs": [
    {
     "data": {
      "image/png": "[encoded data removed]",
      "text/plain": [
       "<Figure size 1000x600 with 1 Axes>"
      ]
     },
     "metadata": {},
     "output_type": "display_data"
    }
   ],
   "source": [
    "import matplotlib.pyplot as plt\n",
    "\n",
    "models = ['Base', 'Quantized']\n",
    "inference_times = [base_model_time, quantized_model_time]\n",
    "\n",
    "plt.figure(figsize=(10, 6))\n",
    "plt.bar(models, inference_times)\n",
    "plt.xlabel('Model')\n",
    "plt.ylabel('Inference Time (seconds)')\n",
    "plt.title('Inference Time Comparison: Base Fine-Tuned and Quantization Aware Trained')\n",
    "plt.ylim(0, max(inference_times) * 1.1)\n",
    "plt.show()"
   ]
  }
 ],
 "metadata": {
  "kernelspec": {
   "display_name": "Python 3 (ipykernel)",
   "language": "python",
   "name": "python3"
  },
  "language_info": {
   "codemirror_mode": {
    "name": "ipython",
    "version": 3
   },
   "file_extension": ".py",
   "mimetype": "text/x-python",
   "name": "python",
   "nbconvert_exporter": "python",
   "pygments_lexer": "ipython3",
   "version": "3.9.6"
  }
 },
 "nbformat": 4,
 "nbformat_minor": 5
}
